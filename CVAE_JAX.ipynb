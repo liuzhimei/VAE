{
 "cells": [
  {
   "cell_type": "markdown",
   "id": "6aa36f9d-ccc8-42e6-bd96-f67eec9047f0",
   "metadata": {},
   "source": [
    "# Conditional Variational Autoencoder with JAX \n",
    "Trained with MNIST images"
   ]
  },
  {
   "cell_type": "markdown",
   "id": "b98e488b-e180-4427-92ac-503b532003e2",
   "metadata": {},
   "source": [
    "## How the CVAE learns the connection between images and labels:\n",
    "1. Conditional Encoding and Latent Space Structuring\n",
    "\n",
    "    In the encoder, both the image $x$ and label $c$ (converted to a one-hot encoded vector) are concatenated and passed through the network to learn a latent representation $z$. By including $c$, the encoder learns to structure the latent space based on this additional label information, enabling it to differentiate representations by class or label.\n",
    "\n",
    "    The encoder learns to map $(x,c)$ to a latent distribution $q(z|x,c)$, capturing data variations within each class separately.\n",
    "\n",
    "    This structuring means that, for example, latent representations for images of a digit \"3\" will be more clustered in one part of the space, while \"7\" might be in another, with the label $c$ guiding this separation.\n",
    "\n",
    "2. Conditional Decoding\n",
    "\n",
    "   During decoding, the CVAE uses both the latent variable $z$ and the label $c$ to reconstruct the input as $p(x|z,c)$. This conditioning ensures that generated samples are aligned with the given label $c$, allowing the model to output images that resemble the conditioned label. Essentially, it gives control over the generation process, making it possible to generate specific types of data (e.g., MNIST digits corresponding to \"3\" or \"7\")."
   ]
  },
  {
   "cell_type": "markdown",
   "id": "288905e1-1e61-49d8-88b6-dace5a88a204",
   "metadata": {},
   "source": [
    "# Import libraries"
   ]
  },
  {
   "cell_type": "code",
   "execution_count": 48,
   "id": "e9687808-279b-4e25-87e2-39aa28f62906",
   "metadata": {},
   "outputs": [],
   "source": [
    "import jax\n",
    "import jax.numpy as jnp\n",
    "from flax import linen as nn\n",
    "import optax\n",
    "import matplotlib.pyplot as plt\n",
    "\n",
    "import torch\n",
    "from torchvision import datasets, transforms\n",
    "from torch.utils.data import DataLoader\n",
    "\n",
    "from tqdm import tqdm\n",
    "import os\n",
    "import numpy as np\n",
    "import pickle"
   ]
  },
  {
   "cell_type": "markdown",
   "id": "22aed8e9-a761-4d3f-a51c-1e9f12539570",
   "metadata": {},
   "source": [
    "# Building the model"
   ]
  },
  {
   "cell_type": "markdown",
   "id": "f0d1cdb9-1497-402e-bb98-c5ecbd346534",
   "metadata": {},
   "source": [
    "## Onehot function"
   ]
  },
  {
   "cell_type": "code",
   "execution_count": 49,
   "id": "0f774e1d-bb9c-4764-9ab5-b3f2dae2b5cf",
   "metadata": {},
   "outputs": [],
   "source": [
    "def onehot(x, max_dim):\n",
    "    \"\"\"Convert labels to one-hot encoding.\"\"\"\n",
    "    batch_size = x.shape[0]\n",
    "    vector = jnp.zeros((batch_size, max_dim))\n",
    "    one_hot = vector.at[jnp.arange(batch_size), x].set(1)\n",
    "    return one_hot"
   ]
  },
  {
   "cell_type": "markdown",
   "id": "7edf5514-67bc-4e2e-b0d6-d12db4ca588a",
   "metadata": {},
   "source": [
    "## Build encoder "
   ]
  },
  {
   "cell_type": "code",
   "execution_count": 50,
   "id": "e5c0603d-b3ce-4dde-a96f-7431ca928f3a",
   "metadata": {},
   "outputs": [],
   "source": [
    "class Encoder(nn.Module):\n",
    "    hidden_size: int\n",
    "    latent_size: int\n",
    "\n",
    "    def setup(self):\n",
    "        self.linear = nn.Dense(self.hidden_size)\n",
    "        self.mu = nn.Dense(self.latent_size)\n",
    "        self.sigma = nn.Dense(self.latent_size)\n",
    "        \n",
    "        # # Convolutional layers\n",
    "        # self.conv1 = nn.Conv(features=32, kernel_size=(3, 3), strides=(2, 2))  # output: 14x14x32\n",
    "        # self.conv2 = nn.Conv(features=64, kernel_size=(3, 3), strides=(2, 2))  # output: 7x7x64\n",
    "\n",
    "        # # Fully connected layers\n",
    "        # self.fc = nn.Dense(self.hidden_size)\n",
    "        # self.mu = nn.Dense(self.latent_size)\n",
    "        # self.sigma = nn.Dense(self.latent_size)\n",
    "\n",
    "    # def __call__(self, x):\n",
    "    #     x = nn.relu(self.conv1(x))\n",
    "    #     x = nn.relu(self.conv2(x))\n",
    "    #     x = jnp.reshape(x, (x.shape[0], -1))  # Flatten the 2D feature maps manually\n",
    "    #     x = nn.relu(self.fc(x))\n",
    "    #     mu = self.mu(x)\n",
    "    #     sigma = self.sigma(x)\n",
    "    #     return mu, sigma\n",
    "        \n",
    "    def __call__(self, x):\n",
    "        # print(\"Input to Encoder:\", x.shape)  # Print input shape\n",
    "        x = nn.relu(self.linear(x))\n",
    "        # print(\"After Linear Layer:\", x.shape)  # Print shape after linear layer\n",
    "        mu = self.mu(x)\n",
    "        # print(\"Mu Shape:\", mu.shape)  # Print mu shape\n",
    "        sigma = self.sigma(x)\n",
    "        # print(\"Sigma Shape:\", sigma.shape)  # Print sigma shape\n",
    "        return mu, sigma\n",
    " "
   ]
  },
  {
   "cell_type": "markdown",
   "id": "7c05919c-18d8-440c-a297-89e5a0547267",
   "metadata": {},
   "source": [
    "## Build decoder"
   ]
  },
  {
   "cell_type": "code",
   "execution_count": 51,
   "id": "b473f264-9d85-4215-bb37-25337537b3ac",
   "metadata": {},
   "outputs": [],
   "source": [
    "class Decoder(nn.Module):\n",
    "    hidden_size: int\n",
    "    output_size: int\n",
    "\n",
    "    def setup(self):\n",
    "        self.linear1 = nn.Dense(self.hidden_size)\n",
    "        self.linear2 = nn.Dense(self.output_size)\n",
    "\n",
    "        # # Fully connected layers to expand from latent space to feature map\n",
    "        # self.fc = nn.Dense(self.hidden_size)\n",
    "        # self.fc_reshape = nn.Dense(7 * 7 * 64)\n",
    "        \n",
    "        # # Transpose Convolutional layers\n",
    "        # self.fc_reshape = nn.Dense(7 * 7 * 64)\n",
    "        # self.convT1 = nn.ConvTranspose(features=64, kernel_size=(3, 3), strides=(2, 2), padding='SAME')  # upsample to 14x14\n",
    "        # self.convT2 = nn.ConvTranspose(features=32, kernel_size=(3, 3), strides=(2, 2), padding='SAME')  # upsample to 28x28\n",
    "        # self.convT3 = nn.ConvTranspose(features=1, kernel_size=(3, 3), strides=(1, 1), padding='SAME')  # final output\n",
    "\n",
    "\n",
    "    # def __call__(self, x):\n",
    "        # x = nn.relu(self.fc(x))\n",
    "        # x = nn.relu(self.fc_reshape(x))\n",
    "        # x = jnp.reshape(x, (-1, 7, 7, 64))  # Reshape to a 2D feature map for transposed convolutions\n",
    "        # x = nn.relu(self.convT1(x))\n",
    "        # x = nn.relu(self.convT2(x))\n",
    "        # x = nn.sigmoid(self.convT3(x)).reshape((-1, 28 * 28))  # Flatten for binary cross-entropy\n",
    "        # return x\n",
    "        \n",
    "    def __call__(self, x):\n",
    "        # print(\"Input to Decoder:\", x.shape)  # Print input shape\n",
    "        x = nn.relu(self.linear1(x))\n",
    "        # print(\"After First Linear Layer:\", x.shape)  # Print shape after first linear layer\n",
    "        x = nn.sigmoid(self.linear2(x))\n",
    "        # print(\"Output Shape:\", x.shape)  # Print output shape\n",
    "        return x\n"
   ]
  },
  {
   "cell_type": "markdown",
   "id": "2b072bd8-f37b-4975-8f37-c7aa95e17faa",
   "metadata": {},
   "source": [
    "## Combine encoder and decoder"
   ]
  },
  {
   "cell_type": "code",
   "execution_count": 52,
   "id": "ea5465f2-11a5-4d4f-b633-b0c4d5a1ff2c",
   "metadata": {},
   "outputs": [],
   "source": [
    "class CVAE(nn.Module):\n",
    "    input_size: int\n",
    "    output_size: int\n",
    "    condition_size: int\n",
    "    latent_size: int\n",
    "    hidden_size: int\n",
    "\n",
    "    def setup(self):\n",
    "        self.encoder = Encoder(hidden_size=self.hidden_size, latent_size=self.latent_size)\n",
    "        self.decoder = Decoder(hidden_size=self.hidden_size, output_size=self.output_size)\n",
    "\n",
    "    def __call__(self, x, c):\n",
    "        # print(\"Shape of x:\", x.shape)\n",
    "        # print(\"Shape of c:\", c.shape)\n",
    "        x = jnp.concatenate((x, c), axis=1) # Concatenate the input x and condition c\n",
    "        # print(\"Shape after concatenating x and c:\", x.shape)  # Print input shape to CVAE\n",
    "        mu, sigma = self.encoder(x)\n",
    "        # print(\"Mu Shape:\", mu.shape)  # Print shape of mu\n",
    "        # print(\"Sigma Shape:\", sigma.shape)  # Print shape of sigma\n",
    "\n",
    "        # Sample from standard normal distribution\n",
    "        eps = jax.random.normal(jax.random.PRNGKey(0), sigma.shape)\n",
    "        z = mu + eps * jnp.exp(0.5 * sigma)\n",
    "        z_cond = jnp.concatenate((z, c), axis=1)\n",
    "        # print(\"Input to Decoder:\", z.shape)  # Print input shape to decoder\n",
    "\n",
    "        recon_x = self.decoder(z_cond)\n",
    "        return recon_x, mu, sigma\n",
    "\n",
    "    def decode(self, z, c):\n",
    "        \"\"\"Decode from latent space given a condition.\"\"\"\n",
    "        z = jnp.concatenate((z, c), axis=1)  # Concatenate latent vector and condition\n",
    "        return self.decoder(z)  # Use decoder to reconstruct the image\n"
   ]
  },
  {
   "cell_type": "markdown",
   "id": "791ccb0c-3171-4e68-9b93-bd1a1298b76a",
   "metadata": {},
   "source": [
    "## Define loss function"
   ]
  },
  {
   "cell_type": "markdown",
   "id": "f0258ce1-1bad-4379-a9df-e941753770c1",
   "metadata": {},
   "source": [
    "The CVAE’s loss function has the same terms as the VAE, combining the **reconstruction loss** (likelihood of data given latent and condition) and the **KL divergence** (difference between learned and prior distributions). However, both terms now incorporate the condition $c$ as a context, which refines how the loss shapes the latent space."
   ]
  },
  {
   "cell_type": "code",
   "execution_count": 53,
   "id": "5f2f997b-fbd1-407c-8c75-7502bae63b01",
   "metadata": {},
   "outputs": [],
   "source": [
    "def loss_fn(recon_x, x, mu, sigma):\n",
    "    \"\"\"Compute the loss for the CVAE.\"\"\"\n",
    "    loss_re = optax.sigmoid_binary_cross_entropy(recon_x, x).sum()\n",
    "    loss_norm = -0.5 * jnp.sum(1 + sigma - jnp.square(mu) - jnp.exp(sigma))\n",
    "    return loss_re + loss_norm\n"
   ]
  },
  {
   "cell_type": "markdown",
   "id": "fb3569cd-4259-4ce6-b673-dd913c943a92",
   "metadata": {},
   "source": [
    "# Hyperparameters and model construction"
   ]
  },
  {
   "cell_type": "markdown",
   "id": "cbd9d3a9-9bf7-4767-8afc-7c9e3e762444",
   "metadata": {},
   "source": [
    "## Model parameters"
   ]
  },
  {
   "cell_type": "code",
   "execution_count": 54,
   "id": "8a7ced0f-4b18-49a7-92ca-ccf0430ff0c3",
   "metadata": {},
   "outputs": [],
   "source": [
    "latent_size = 16  # latent space dimension\n",
    "hidden_size = 128  # hidden layer dimension\n",
    "input_size = output_size = 28 * 28 \n",
    "condition_size = 10 "
   ]
  },
  {
   "cell_type": "markdown",
   "id": "f1c5e076-7991-417a-a649-ab58430ede4a",
   "metadata": {},
   "source": [
    "## Training parameters"
   ]
  },
  {
   "cell_type": "code",
   "execution_count": 55,
   "id": "be3b4bd8-e703-4769-a9b6-fef26ca49182",
   "metadata": {},
   "outputs": [],
   "source": [
    "epochs = 10\n",
    "batch_size = 32 \n",
    "learning_rate = 3e-3"
   ]
  },
  {
   "cell_type": "markdown",
   "id": "86c2b969-03dd-4cfb-ba01-893613034f26",
   "metadata": {},
   "source": [
    "## Model construction"
   ]
  },
  {
   "cell_type": "code",
   "execution_count": 56,
   "id": "44e48382-5dd6-466d-bd35-fbcd531d4fba",
   "metadata": {},
   "outputs": [],
   "source": [
    "# Initialize model and optimizer\n",
    "model = CVAE(input_size, output_size, condition_size, latent_size, hidden_size)\n",
    "# Update the input shape to include the condition size\n",
    "input_shape = (batch_size, input_size)  # Correct shape\n",
    "params = model.init(jax.random.PRNGKey(0), jnp.ones(input_shape), jnp.ones((batch_size, condition_size)))\n",
    "optimizer = optax.adam(learning_rate)\n",
    "opt_state = optimizer.init(params)"
   ]
  },
  {
   "cell_type": "markdown",
   "id": "7628d2d4-f9c1-4ec2-a7bc-4c862a340545",
   "metadata": {},
   "source": [
    "# Load dataset and visualise"
   ]
  },
  {
   "cell_type": "code",
   "execution_count": 57,
   "id": "fe1a4141-7589-4a85-a0c7-4844dbcd795c",
   "metadata": {},
   "outputs": [],
   "source": [
    "# Load the dataset using PyTorch\n",
    "train_dataset = datasets.MNIST('./data', train=True, download=True, transform=transforms.ToTensor())\n",
    "test_dataset = datasets.MNIST('./data', train=False, transform=transforms.ToTensor())\n",
    "\n",
    "# Create DataLoader for batch processing\n",
    "train_loader = DataLoader(train_dataset, batch_size=batch_size, shuffle=True)\n",
    "test_loader = DataLoader(test_dataset, batch_size=batch_size, shuffle=False)"
   ]
  },
  {
   "cell_type": "code",
   "execution_count": 58,
   "id": "05e6c558-ccc6-4ed4-b501-466796417167",
   "metadata": {},
   "outputs": [
    {
     "name": "stdout",
     "output_type": "stream",
     "text": [
      "torch.Size([32, 1, 28, 28])\n"
     ]
    },
    {
     "name": "stderr",
     "output_type": "stream",
     "text": [
      "/var/folders/zx/j5d_p2_s2wz05zg3b78717100000gn/T/ipykernel_39193/679139505.py:3: UserWarning: To copy construct from a tensor, it is recommended to use sourceTensor.clone().detach() or sourceTensor.clone().detach().requires_grad_(True), rather than torch.tensor(sourceTensor).\n",
      "  data_tensor = torch.tensor(batch[0])\n"
     ]
    }
   ],
   "source": [
    "for batch in train_loader:\n",
    "    # Convert the list to a tensor\n",
    "    data_tensor = torch.tensor(batch[0])\n",
    "    print(data_tensor.shape)\n",
    "    break"
   ]
  },
  {
   "cell_type": "code",
   "execution_count": 59,
   "id": "164e7764-1e04-4a59-a5e2-a9c75978544f",
   "metadata": {},
   "outputs": [
    {
     "name": "stdout",
     "output_type": "stream",
     "text": [
      "Number of samples in training set: 60000\n",
      "Number of samples in test dataset: 10000\n",
      "4\n"
     ]
    }
   ],
   "source": [
    "# Check the length of the dataset\n",
    "print(f\"Number of samples in training set: {len(train_dataset)}\")\n",
    "print(f\"Number of samples in test dataset: {len(test_dataset)}\")\n",
    "print(train_dataset[60][1])"
   ]
  },
  {
   "cell_type": "code",
   "execution_count": 60,
   "id": "bc488584-70f7-49fe-b679-19687877e7bc",
   "metadata": {},
   "outputs": [
    {
     "name": "stdout",
     "output_type": "stream",
     "text": [
      "Image shape: torch.Size([1, 28, 28])\n",
      "Image data type: torch.float32\n",
      "Label: 4\n"
     ]
    },
    {
     "data": {
      "image/png": "[encoded data removed]",
      "text/plain": [
       "<Figure size 640x480 with 1 Axes>"
      ]
     },
     "metadata": {},
     "output_type": "display_data"
    }
   ],
   "source": [
    "def inspect_train_set(train_dataset):\n",
    "    '''Function to inspect the train_set'''\n",
    "\n",
    "    # Get the first sample (image, label)\n",
    "    sample_image, sample_label = train_dataset[60]\n",
    "\n",
    "    # Check the shape and type of the image\n",
    "    print(f\"Image shape: {sample_image.shape}\")\n",
    "    print(f\"Image data type: {sample_image.dtype}\")\n",
    "    print(f\"Label: {sample_label}\")\n",
    "\n",
    "    # Visualize the first image\n",
    "    plt.imshow(sample_image.squeeze(), cmap='gray')\n",
    "    plt.title(f\"Label: {sample_label}\")\n",
    "    plt.show()\n",
    "\n",
    "# Inspect the train_set\n",
    "inspect_train_set(train_dataset)"
   ]
  },
  {
   "cell_type": "code",
   "execution_count": 61,
   "id": "05b4762f-b6b4-4280-b7f7-c53d781ad5d3",
   "metadata": {},
   "outputs": [],
   "source": [
    "# for imgs, lbls in tqdm(train_loader):\n",
    "#     # Flatten images to shape (batch_size, 784)\n",
    "#     imgs = imgs.view(imgs.shape[0], -1)  \n",
    "#     print(\"Shape of imgs:\", imgs.shape)  # Should be (batch_size, 784)\n",
    "    \n",
    "#     # One-hot encode the labels\n",
    "#     lbls = onehot(lbls.numpy(), condition_size)  # Convert to one-hot encoding\n",
    "#     print(\"Shape of lbls:\", lbls.shape)  # Should be (batch_size, 10)\n",
    "\n",
    "#     # Convert to JAX arrays\n",
    "#     imgs = jnp.array(imgs.numpy())  # Shape (batch_size, 784)\n",
    "#     lbls = jnp.array(lbls)  # Shape (batch_size, 10)\n",
    "\n",
    "#     # Concatenate images and labels for encoder input\n",
    "#     inputs = jnp.concatenate((imgs, lbls), axis=1)  # Shape (batch_size, 794)\n",
    "#     print(\"Shape of inputs:\", inputs.shape)  # Should be (batch_size, 794)\n",
    "    \n",
    "#     params = model.init(jax.random.PRNGKey(0), inputs, lbls)  # Initialize parameters\n",
    "\n",
    "#     # Call the model with both inputs\n",
    "#     recon_x, mu, sigma = model.apply(params, inputs, lbls)  # Pass lbls as the second argument\n"
   ]
  },
  {
   "cell_type": "markdown",
   "id": "494c57b1-d2b0-4da7-9520-c621d24ab7c6",
   "metadata": {},
   "source": [
    "# Train the model and visualise"
   ]
  },
  {
   "cell_type": "code",
   "execution_count": 62,
   "id": "cbdd2eec-7e86-45bd-a7e7-62b600bf7e1d",
   "metadata": {},
   "outputs": [
    {
     "name": "stderr",
     "output_type": "stream",
     "text": [
      "100%|██████████████████████████████████████████████████████████████████████████████████████████████████████████████| 1875/1875 [01:13<00:00, 25.43it/s]\n"
     ]
    },
    {
     "name": "stdout",
     "output_type": "stream",
     "text": [
      "epoch: 0| Train Loss:  17351.312\n"
     ]
    },
    {
     "name": "stderr",
     "output_type": "stream",
     "text": [
      "100%|████████████████████████████████████████████████████████████████████████████████████████████████████████████████| 313/313 [00:04<00:00, 75.88it/s]\n"
     ]
    },
    {
     "name": "stdout",
     "output_type": "stream",
     "text": [
      "epoch: 0| Test Loss:  17203.549\n"
     ]
    },
    {
     "name": "stderr",
     "output_type": "stream",
     "text": [
      "100%|██████████████████████████████████████████████████████████████████████████████████████████████████████████████| 1875/1875 [01:14<00:00, 25.05it/s]\n"
     ]
    },
    {
     "name": "stdout",
     "output_type": "stream",
     "text": [
      "epoch: 1| Train Loss:  17205.127\n"
     ]
    },
    {
     "name": "stderr",
     "output_type": "stream",
     "text": [
      "100%|████████████████████████████████████████████████████████████████████████████████████████████████████████████████| 313/313 [00:04<00:00, 77.14it/s]\n"
     ]
    },
    {
     "name": "stdout",
     "output_type": "stream",
     "text": [
      "epoch: 1| Test Loss:  17132.434\n"
     ]
    },
    {
     "name": "stderr",
     "output_type": "stream",
     "text": [
      "100%|██████████████████████████████████████████████████████████████████████████████████████████████████████████████| 1875/1875 [01:12<00:00, 25.93it/s]\n"
     ]
    },
    {
     "name": "stdout",
     "output_type": "stream",
     "text": [
      "epoch: 2| Train Loss:  17157.955\n"
     ]
    },
    {
     "name": "stderr",
     "output_type": "stream",
     "text": [
      "100%|████████████████████████████████████████████████████████████████████████████████████████████████████████████████| 313/313 [00:04<00:00, 77.27it/s]\n"
     ]
    },
    {
     "name": "stdout",
     "output_type": "stream",
     "text": [
      "epoch: 2| Test Loss:  17099.713\n"
     ]
    },
    {
     "name": "stderr",
     "output_type": "stream",
     "text": [
      "100%|██████████████████████████████████████████████████████████████████████████████████████████████████████████████| 1875/1875 [01:13<00:00, 25.53it/s]\n"
     ]
    },
    {
     "name": "stdout",
     "output_type": "stream",
     "text": [
      "epoch: 3| Train Loss:  17131.828\n"
     ]
    },
    {
     "name": "stderr",
     "output_type": "stream",
     "text": [
      "100%|████████████████████████████████████████████████████████████████████████████████████████████████████████████████| 313/313 [00:04<00:00, 76.52it/s]\n"
     ]
    },
    {
     "name": "stdout",
     "output_type": "stream",
     "text": [
      "epoch: 3| Test Loss:  17075.016\n"
     ]
    },
    {
     "name": "stderr",
     "output_type": "stream",
     "text": [
      "100%|██████████████████████████████████████████████████████████████████████████████████████████████████████████████| 1875/1875 [01:12<00:00, 25.97it/s]\n"
     ]
    },
    {
     "name": "stdout",
     "output_type": "stream",
     "text": [
      "epoch: 4| Train Loss:  17113.395\n"
     ]
    },
    {
     "name": "stderr",
     "output_type": "stream",
     "text": [
      "100%|████████████████████████████████████████████████████████████████████████████████████████████████████████████████| 313/313 [00:04<00:00, 68.60it/s]\n"
     ]
    },
    {
     "name": "stdout",
     "output_type": "stream",
     "text": [
      "epoch: 4| Test Loss:  17066.365\n"
     ]
    },
    {
     "name": "stderr",
     "output_type": "stream",
     "text": [
      "100%|██████████████████████████████████████████████████████████████████████████████████████████████████████████████| 1875/1875 [01:11<00:00, 26.13it/s]\n"
     ]
    },
    {
     "name": "stdout",
     "output_type": "stream",
     "text": [
      "epoch: 5| Train Loss:  17098.943\n"
     ]
    },
    {
     "name": "stderr",
     "output_type": "stream",
     "text": [
      "100%|████████████████████████████████████████████████████████████████████████████████████████████████████████████████| 313/313 [00:04<00:00, 76.44it/s]\n"
     ]
    },
    {
     "name": "stdout",
     "output_type": "stream",
     "text": [
      "epoch: 5| Test Loss:  17044.555\n"
     ]
    },
    {
     "name": "stderr",
     "output_type": "stream",
     "text": [
      "100%|██████████████████████████████████████████████████████████████████████████████████████████████████████████████| 1875/1875 [01:12<00:00, 25.94it/s]\n"
     ]
    },
    {
     "name": "stdout",
     "output_type": "stream",
     "text": [
      "epoch: 6| Train Loss:  17084.398\n"
     ]
    },
    {
     "name": "stderr",
     "output_type": "stream",
     "text": [
      "100%|████████████████████████████████████████████████████████████████████████████████████████████████████████████████| 313/313 [00:04<00:00, 77.14it/s]\n"
     ]
    },
    {
     "name": "stdout",
     "output_type": "stream",
     "text": [
      "epoch: 6| Test Loss:  17032.268\n"
     ]
    },
    {
     "name": "stderr",
     "output_type": "stream",
     "text": [
      "100%|██████████████████████████████████████████████████████████████████████████████████████████████████████████████| 1875/1875 [01:11<00:00, 26.08it/s]\n"
     ]
    },
    {
     "name": "stdout",
     "output_type": "stream",
     "text": [
      "epoch: 7| Train Loss:  17071.371\n"
     ]
    },
    {
     "name": "stderr",
     "output_type": "stream",
     "text": [
      "100%|████████████████████████████████████████████████████████████████████████████████████████████████████████████████| 313/313 [00:04<00:00, 72.43it/s]\n"
     ]
    },
    {
     "name": "stdout",
     "output_type": "stream",
     "text": [
      "epoch: 7| Test Loss:  17021.742\n"
     ]
    },
    {
     "name": "stderr",
     "output_type": "stream",
     "text": [
      "100%|██████████████████████████████████████████████████████████████████████████████████████████████████████████████| 1875/1875 [01:12<00:00, 25.75it/s]\n"
     ]
    },
    {
     "name": "stdout",
     "output_type": "stream",
     "text": [
      "epoch: 8| Train Loss:  17061.475\n"
     ]
    },
    {
     "name": "stderr",
     "output_type": "stream",
     "text": [
      "100%|████████████████████████████████████████████████████████████████████████████████████████████████████████████████| 313/313 [00:04<00:00, 75.18it/s]\n"
     ]
    },
    {
     "name": "stdout",
     "output_type": "stream",
     "text": [
      "epoch: 8| Test Loss:  17004.184\n"
     ]
    },
    {
     "name": "stderr",
     "output_type": "stream",
     "text": [
      "100%|██████████████████████████████████████████████████████████████████████████████████████████████████████████████| 1875/1875 [01:13<00:00, 25.60it/s]\n"
     ]
    },
    {
     "name": "stdout",
     "output_type": "stream",
     "text": [
      "epoch: 9| Train Loss:  17046.518\n"
     ]
    },
    {
     "name": "stderr",
     "output_type": "stream",
     "text": [
      "100%|████████████████████████████████████████████████████████████████████████████████████████████████████████████████| 313/313 [00:04<00:00, 76.82it/s]"
     ]
    },
    {
     "name": "stdout",
     "output_type": "stream",
     "text": [
      "epoch: 9| Test Loss:  16998.65\n"
     ]
    },
    {
     "name": "stderr",
     "output_type": "stream",
     "text": [
      "\n"
     ]
    }
   ],
   "source": [
    "# Training loop\n",
    "for epoch in range(epochs):\n",
    "    train_loss = 0\n",
    "    for imgs, lbls in tqdm(train_loader):\n",
    "        imgs = imgs.view(imgs.shape[0], input_size)  # Flatten the images\n",
    "\n",
    "        # print(f\"input of onehot function: {lbls.numpy()}\")\n",
    "        lbls = onehot(lbls.numpy(), condition_size)  # Convert labels to one-hot encoding\n",
    "        # print(f\"output of onehot function: {lbls}\")\n",
    "\n",
    "        # Move data to JAX compatible format\n",
    "        imgs = jnp.array(imgs.numpy())  # Convert to JAX array\n",
    "        lbls = jnp.array(lbls)  # Convert to JAX array\n",
    "\n",
    "        def loss_fn_wrapper(params):\n",
    "            recon_x, mu, sigma = model.apply(params, imgs, lbls)\n",
    "            return loss_fn(recon_x, imgs, mu, sigma)\n",
    "\n",
    "        loss, grads = jax.value_and_grad(loss_fn_wrapper)(params)\n",
    "        updates, opt_state = optimizer.update(grads, opt_state)\n",
    "        params = optax.apply_updates(params, updates)\n",
    "\n",
    "        train_loss += loss\n",
    "\n",
    "    print(f'epoch: {epoch}| Train Loss: ', train_loss / len(train_loader))\n",
    "\n",
    "    # Evaluation\n",
    "    test_loss = 0\n",
    "    for imgs, lbls in tqdm(test_loader):\n",
    "        imgs = imgs.view(imgs.shape[0], input_size)\n",
    "        lbls = onehot(lbls.numpy(), condition_size)\n",
    "        \n",
    "        imgs = jnp.array(imgs.numpy())\n",
    "        lbls = jnp.array(lbls)\n",
    "\n",
    "        recon_x, mu, sigma = model.apply(params, imgs, lbls)\n",
    "        loss = loss_fn(recon_x, imgs, mu, sigma)\n",
    "        test_loss += loss\n",
    "\n",
    "    print(f'epoch: {epoch}| Test Loss: ', test_loss / len(test_loader))\n",
    "\n",
    "    \n",
    "    # # Sample and visualize generated data\n",
    "    # sample = jax.random.normal(jax.random.PRNGKey(1), (1, latent_size))\n",
    "\n",
    "    # for i in range(condition_size):\n",
    "    #     i_number = i * jnp.ones((1,), dtype=int)\n",
    "    #     cond = onehot(i_number, condition_size)\n",
    "    #     inputs = jnp.concatenate((sample, cond), axis=1)\n",
    "\n",
    "    #     # params = model.init(jax.random.PRNGKey(0), inputs, lbls)  # Initialize parameters\n",
    "        \n",
    "    #     # Use model.apply to call the decoder\n",
    "    #     gen = model.apply(params, inputs, cond)[0].reshape((28, 28))\n",
    "    #     plt.matshow(gen)\n",
    "    #     plt.show()\n",
    "\n",
    "# Save the final model parameters after all epochs are completed\n",
    "model_name = \"cvae_jax.pkl\"\n",
    "with open(model_name, \"wb\") as f:\n",
    "    pickle.dump(params, f)"
   ]
  },
  {
   "cell_type": "code",
   "execution_count": 96,
   "id": "de85ca09-1713-4d28-aa65-ee8303536d9b",
   "metadata": {},
   "outputs": [
    {
     "data": {
      "image/png": "[encoded data removed]",
      "text/plain": [
       "<Figure size 200x200 with 1 Axes>"
      ]
     },
     "metadata": {},
     "output_type": "display_data"
    }
   ],
   "source": [
    "# Load the saved model parameters\n",
    "model_name = \"cvae_jax.pkl\"\n",
    "with open(model_name, \"rb\") as f:\n",
    "    params = pickle.load(f)\n",
    "\n",
    "# Generate a random sample from the latent space\n",
    "key = jax.random.PRNGKey(0) # change the random key to generate different image\n",
    "sample = jax.random.normal(key, (1, latent_size))  # Shape (1, latent_size)\n",
    "\n",
    "# Define the label to condition on\n",
    "i = 8\n",
    "i_array = jnp.array([i])  # Wrap `i` in an array\n",
    "i_onehot = onehot(i_array, condition_size)  # Use the `onehot` function\n",
    "\n",
    "# Generate the output with the decode method\n",
    "gen_image = model.apply(params, sample, i_onehot, method=model.decode).reshape(28, 28)\n",
    "\n",
    "# Visualize the generated image\n",
    "plt.imshow(gen_image, cmap='gray', interpolation='bilinear')\n",
    "plt.gcf().set_size_inches(2, 2)  # Adjust display size\n",
    "plt.axis('off')\n",
    "plt.show()"
   ]
  },
  {
   "cell_type": "code",
   "execution_count": null,
   "id": "4b649835-c197-4f6c-9b4e-ff21361ea7b8",
   "metadata": {},
   "outputs": [],
   "source": []
  }
 ],
 "metadata": {
  "kernelspec": {
   "display_name": "Python (vae_env)",
   "language": "python",
   "name": "vae_env"
  },
  "language_info": {
   "codemirror_mode": {
    "name": "ipython",
    "version": 3
   },
   "file_extension": ".py",
   "mimetype": "text/x-python",
   "name": "python",
   "nbconvert_exporter": "python",
   "pygments_lexer": "ipython3",
   "version": "3.12.4"
  }
 },
 "nbformat": 4,
 "nbformat_minor": 5
}
