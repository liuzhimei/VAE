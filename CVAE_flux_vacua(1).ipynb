{
 "cells": [
  {
   "cell_type": "markdown",
   "id": "2a6d5c11-3bba-452e-a42f-f7f69ccafbcc",
   "metadata": {},
   "source": [
    "# CVAE on generating flux vacua"
   ]
  },
  {
   "cell_type": "markdown",
   "id": "cc75fa45",
   "metadata": {},
   "source": [
    "Trying to improve the performance with more hidden layers and dropout layer to avoid overfitting."
   ]
  },
  {
   "cell_type": "markdown",
   "id": "89b8efe0-3b34-4367-ac6b-441eae2ddedb",
   "metadata": {},
   "source": [
    "## Import libraries"
   ]
  },
  {
   "cell_type": "code",
   "execution_count": 1,
   "id": "a9b79b49-84a0-4652-a1eb-c9ad6378a1cd",
   "metadata": {},
   "outputs": [],
   "source": [
    "import torch\n",
    "import matplotlib.pyplot as plt\n",
    "from torchvision import datasets, transforms\n",
    "from torch import nn, optim\n",
    "from torch.nn import functional as F\n",
    "from tqdm import tqdm\n",
    "import os\n",
    "import numpy as np"
   ]
  },
  {
   "cell_type": "markdown",
   "id": "8f09e1c0",
   "metadata": {},
   "source": [
    "## Define onehot function"
   ]
  },
  {
   "cell_type": "code",
   "execution_count": 2,
   "id": "c9670758",
   "metadata": {},
   "outputs": [],
   "source": [
    "def label_to_onehot(x, max_dim):\n",
    "    \"\"\"\n",
    "    Convert a list of labels to one-hot encoded vectors for values in [0, max_dim - 1].\n",
    "    \n",
    "    Args:\n",
    "        x: list of labels for the input images\n",
    "        max_dim (int): number of possible classes (the size of onehot vector)\n",
    "    \"\"\"\n",
    "    batch_size = x.shape[0] # number of samples in the batch\n",
    "    vector = torch.zeros(batch_size, max_dim).to(x.device) # to(x.device) ensures the onehot vector tensor \n",
    "                                                           # is on the same device (CPU/GPU) as x\n",
    "    for i in range(batch_size):\n",
    "        vector[i,x[i]] = 1\n",
    "    return vector"
   ]
  },
  {
   "cell_type": "code",
   "execution_count": 3,
   "id": "d33d6cfd",
   "metadata": {},
   "outputs": [],
   "source": [
    "def coordinate_to_onehot(coord, max_dim=20+1):\n",
    "    \"\"\"\n",
    "    Convert a coordinate vector to a concatenated one-hot encoded vector for values in [-10, 10].\n",
    "    \n",
    "    Args:\n",
    "        coord (torch.Tensor): A vector of integers in the range [-10, 10].\n",
    "        max_dim (int): The number of dimensions for one-hot encoding (default is 21 for range [-10, 10]).\n",
    "    \n",
    "    Returns:\n",
    "        torch.Tensor: A single concatenated one-hot encoded vector.\n",
    "    \"\"\"\n",
    "    onehot_vectors = []  # List to store one-hot vectors for each coordinate\n",
    "    for value in coord:\n",
    "        onehot = torch.zeros(max_dim)\n",
    "        onehot[int(value) + 10] = 1  # Shift value by +25 to make index non-negative\n",
    "        onehot_vectors.append(onehot)\n",
    "    \n",
    "    # Concatenate all one-hot vectors into a single vector\n",
    "    concatenated_onehot = torch.cat(onehot_vectors, dim=0)\n",
    "    return concatenated_onehot"
   ]
  },
  {
   "cell_type": "code",
   "execution_count": 4,
   "id": "9714cdb6",
   "metadata": {},
   "outputs": [
    {
     "data": {
      "text/plain": [
       "tensor([0., 0., 0., 0., 0., 0., 0., 0., 0., 0., 0., 1., 0., 0., 0., 0., 0., 0.,\n",
       "        0., 0., 0., 0., 0., 0., 0., 0., 0., 0., 0., 0., 0., 0., 0., 1., 0., 0.,\n",
       "        0., 0., 0., 0., 0., 0., 1., 0., 0., 0., 0., 0., 0., 0., 0., 0., 0., 0.,\n",
       "        0., 0., 0., 0., 0., 0., 0., 0., 0.])"
      ]
     },
     "execution_count": 4,
     "metadata": {},
     "output_type": "execute_result"
    }
   ],
   "source": [
    "coordinate_to_onehot(coord=[1,2,-10])"
   ]
  },
  {
   "cell_type": "markdown",
   "id": "a1e13a4f-f587-4909-975f-3c72fb3f7386",
   "metadata": {},
   "source": [
    "## Model structure"
   ]
  },
  {
   "cell_type": "code",
   "execution_count": 5,
   "id": "42d885b9-d70c-49ed-ac40-c9a52d7f6f9e",
   "metadata": {},
   "outputs": [],
   "source": [
    "class Encoder(nn.Module):\n",
    "    def __init__(self, input_size, hidden_size, latent_size):\n",
    "        super(Encoder, self).__init__()\n",
    "        self.linear1 = nn.Linear(input_size, hidden_size)\n",
    "        self.linear2 = nn.Linear(hidden_size, hidden_size // 2)\n",
    "        self.dropout = nn.Dropout(p=0)  # Dropout layer\n",
    "        self.mu = nn.Linear(hidden_size // 2, latent_size)\n",
    "        self.sigma = nn.Linear(hidden_size // 2, latent_size)\n",
    "        \n",
    "    def forward(self, x):\n",
    "        x = F.relu(self.linear1(x))\n",
    "        x = self.dropout(x)  # Apply dropout after activation\n",
    "        x = F.relu(self.linear2(x))\n",
    "        x = self.dropout(x)\n",
    "        mu = self.mu(x)\n",
    "        sigma = self.sigma(x)\n",
    "        return mu, sigma\n",
    "    \n",
    "\n",
    "class Decoder(nn.Module):\n",
    "    def __init__(self, latent_size, hidden_size, num_logits, output_per_logit):\n",
    "        super(Decoder, self).__init__()\n",
    "        self.linear1 = nn.Linear(latent_size, hidden_size)\n",
    "        self.linear2 = nn.Linear(hidden_size, hidden_size // 2)\n",
    "        self.linear3 = nn.Linear(hidden_size // 2, num_logits * output_per_logit)\n",
    "        self.dropout = nn.Dropout(p=0)  # Dropout layer\n",
    "        self.num_logits = num_logits\n",
    "        self.output_per_logit = output_per_logit\n",
    "\n",
    "    def forward(self, x):\n",
    "        x = F.relu(self.linear1(x))\n",
    "        x = self.dropout(x)\n",
    "        x = F.relu(self.linear2(x))\n",
    "        x = self.dropout(x)\n",
    "        logits = self.linear3(x)\n",
    "        logits = logits.view(-1, self.num_logits, self.output_per_logit)\n",
    "        return logits.unbind(dim=1)\n",
    "\n",
    "\n",
    "class CVAE(nn.Module):\n",
    "    def __init__(self, input_size, output_size, condition_size, latent_size, hidden_size, num_logits=8):\n",
    "        super(CVAE, self).__init__()\n",
    "        self.encoder = Encoder(input_size + condition_size, hidden_size, latent_size)\n",
    "        self.decoder = Decoder(latent_size + condition_size, hidden_size, num_logits, output_size // num_logits)\n",
    "        \n",
    "    def forward(self, x, c):\n",
    "        x = torch.cat((x, c), dim=1)  # Concatenate input and condition\n",
    "        mu, sigma = self.encoder(x)\n",
    "        eps = torch.randn_like(sigma)  # Sample from standard normal\n",
    "        z = mu + eps * sigma  # Reparameterization trick\n",
    "        z = torch.cat((z, c), dim=1)  # Concatenate latent vector with condition\n",
    "        # z = z + torch.normal(mean=0, std=0.1, size=z.size()).to(z.device)  # Add small noise\n",
    "        logits = self.decoder(z)  # Dynamically unpack logits\n",
    "        return logits, mu, sigma"
   ]
  },
  {
   "cell_type": "markdown",
   "id": "16f241f3-711f-44fd-bec6-a2818b986d8c",
   "metadata": {},
   "source": [
    "## Loss function"
   ]
  },
  {
   "cell_type": "code",
   "execution_count": 6,
   "id": "873a5d0d-ef0c-4dc4-85df-3daa3d10963b",
   "metadata": {},
   "outputs": [],
   "source": [
    "loss_CE = nn.CrossEntropyLoss()\n",
    "loss_MSE = torch.nn.MSELoss(reduction = 'sum')\n",
    "loss_KLD = lambda mu,sigma: -0.5 * torch.sum(1 + torch.log(sigma**2) - mu.pow(2) - sigma**2)"
   ]
  },
  {
   "cell_type": "markdown",
   "id": "fdfb32b1-b470-4fb6-8c5e-02ac661d276c",
   "metadata": {},
   "source": [
    "## Model parameters"
   ]
  },
  {
   "cell_type": "code",
   "execution_count": 7,
   "id": "5537f311-9f48-4fe1-b378-09c800ec06e2",
   "metadata": {},
   "outputs": [],
   "source": [
    "latent_size = 128 # latent space dimension\n",
    "hidden_size = 128 # hidden layer dimension\n",
    "input_size = output_size = (20+1) * 8 # input_size for 8D coordinates \n",
    "condition_size = 2"
   ]
  },
  {
   "cell_type": "markdown",
   "id": "b1ce1528-91dd-40f3-a1c9-5c219a165e8a",
   "metadata": {},
   "source": [
    "## Training parameters"
   ]
  },
  {
   "cell_type": "code",
   "execution_count": 8,
   "id": "9b8d23fc-0316-4723-b750-6ed89b755dc9",
   "metadata": {},
   "outputs": [],
   "source": [
    "epochs = 30\n",
    "batch_size = 128\n",
    "learning_rate = 1e-3\n",
    "device =torch.device('cuda' if torch.cuda.is_available() else 'cpu')"
   ]
  },
  {
   "cell_type": "markdown",
   "id": "ca940b71-9a5f-41e9-8047-46551f7a14d9",
   "metadata": {},
   "source": [
    "## Model construction"
   ]
  },
  {
   "cell_type": "code",
   "execution_count": 9,
   "id": "da6dfa9d-b6f3-4a9e-a97b-b5d1a37da8f4",
   "metadata": {},
   "outputs": [],
   "source": [
    "model = CVAE(input_size, output_size, condition_size, latent_size,hidden_size).to(device)\n",
    "optimizer = optim.Adam(model.parameters(), lr=learning_rate)\n",
    "try:\n",
    "    model.load_state_dict(torch.load(modelname))\n",
    "    print('[INFO] Load Model complete')\n",
    "except:\n",
    "    pass"
   ]
  },
  {
   "cell_type": "markdown",
   "id": "98a1c7df",
   "metadata": {},
   "source": [
    "## Prepare for dataset"
   ]
  },
  {
   "cell_type": "code",
   "execution_count": 10,
   "id": "28af2222",
   "metadata": {},
   "outputs": [
    {
     "name": "stdout",
     "output_type": "stream",
     "text": [
      "tensor(9)\n"
     ]
    }
   ],
   "source": [
    "a = torch.tensor([1,2,3])\n",
    "b = torch.tensor([2,2,1])\n",
    "c = torch.dot(a, b)\n",
    "print(c)"
   ]
  },
  {
   "cell_type": "code",
   "execution_count": 11,
   "id": "40f7ff0b",
   "metadata": {},
   "outputs": [],
   "source": [
    "def N_flux(coord):\n",
    "    return coord[0]*coord[6] + coord[1]*coord[7] - coord[2]*coord[4] - coord[3]*coord[5]"
   ]
  },
  {
   "cell_type": "code",
   "execution_count": 12,
   "id": "54fe111b",
   "metadata": {},
   "outputs": [],
   "source": [
    "import random\n",
    "\n",
    "train_dataset = []\n",
    "test_dataset = []\n",
    "\n",
    "n_train = 7000\n",
    "n_test = 1500\n",
    "\n",
    "train_set_visualise = []\n",
    "N_flux_data = []\n",
    "W0_data = []\n",
    "\n",
    "# set a random vector for and take the dot product between the random vector and coord\n",
    "random_vector = torch.tensor([random.randint(0, 5) for _ in range(8)])\n",
    "\n",
    "for j in range(n_train):\n",
    "    f = torch.tensor([random.randint(3, 10), random.randint(-5, 2), random.randint(6, 10), random.randint(-10, 5)])\n",
    "    h = torch.tensor([random.randint(-10, 5), random.randint(-5, 8), random.randint(0, 10), random.randint(-10, 5)])\n",
    "    coord = torch.cat((f, h))\n",
    "    train_set_visualise.append(coord)\n",
    "\n",
    "    N_flux_value = N_flux(coord)\n",
    "    W0 = torch.dot(coord, random_vector)\n",
    "\n",
    "    N_flux_data.append(N_flux_value)\n",
    "    W0_data.append(W0)\n",
    "\n",
    "x1 = np.percentile(N_flux_data, 33)\n",
    "x2 = np.percentile(N_flux_data, 66)\n",
    "z1 = np.percentile(W0_data, 33)\n",
    "z2 = np.percentile(W0_data, 66)\n",
    "\n",
    "for j in range(n_train):\n",
    "    if x1 < N_flux_data[j] < x2 and z1 < W0_data[j] < z2:\n",
    "        label = 0\n",
    "    else:\n",
    "        label = 1\n",
    "\n",
    "    onehot_coord = coordinate_to_onehot(train_set_visualise[j])  # Convert to one-hot\n",
    "    data_point = (onehot_coord, label)  # Store one-hot encoded vector with label\n",
    "    train_dataset.append(data_point)\n",
    "\n",
    "\n",
    "for j in range(n_test):\n",
    "    f = torch.tensor([random.randint(3, 10), random.randint(-5, 2), random.randint(6, 10), random.randint(-10, 5)])\n",
    "    h = torch.tensor([random.randint(-10, 5), random.randint(-5, 8), random.randint(0, 10), random.randint(-10, 5)])\n",
    "    coord = torch.cat((f, h))\n",
    "\n",
    "    W0 = torch.dot(coord, random_vector)\n",
    "\n",
    "    if x1 < N_flux_value < x2 and z1 < W0 < z2:\n",
    "        label = 0\n",
    "    else:\n",
    "        label = 1\n",
    "\n",
    "    onehot_coord = coordinate_to_onehot(coord)  # Convert to one-hot\n",
    "    data_point = (onehot_coord, label)  # Store one-hot encoded vector with label\n",
    "    test_dataset.append(data_point)"
   ]
  },
  {
   "cell_type": "code",
   "execution_count": 13,
   "id": "1d755af0",
   "metadata": {},
   "outputs": [
    {
     "name": "stdout",
     "output_type": "stream",
     "text": [
      "tensor([ 6,  2,  6, -4, -9,  6,  9, -5])\n",
      "N_flux value: 122\n",
      "W_0 value: 10\n",
      "(tensor([0., 0., 0., 0., 0., 0., 0., 0., 0., 0., 0., 0., 0., 0., 0., 0., 1., 0.,\n",
      "        0., 0., 0., 0., 0., 0., 0., 0., 0., 0., 0., 0., 0., 0., 0., 1., 0., 0.,\n",
      "        0., 0., 0., 0., 0., 0., 0., 0., 0., 0., 0., 0., 0., 0., 0., 0., 0., 0.,\n",
      "        0., 0., 0., 0., 1., 0., 0., 0., 0., 0., 0., 0., 0., 0., 0., 1., 0., 0.,\n",
      "        0., 0., 0., 0., 0., 0., 0., 0., 0., 0., 0., 0., 0., 1., 0., 0., 0., 0.,\n",
      "        0., 0., 0., 0., 0., 0., 0., 0., 0., 0., 0., 0., 0., 0., 0., 0., 0., 0.,\n",
      "        0., 0., 0., 0., 0., 0., 0., 0., 0., 0., 0., 0., 0., 1., 0., 0., 0., 0.,\n",
      "        0., 0., 0., 0., 0., 0., 0., 0., 0., 0., 0., 0., 0., 0., 0., 0., 0., 0.,\n",
      "        0., 1., 0., 0., 0., 0., 0., 0., 1., 0., 0., 0., 0., 0., 0., 0., 0., 0.,\n",
      "        0., 0., 0., 0., 0., 0.]), 1)\n"
     ]
    }
   ],
   "source": [
    "n = 3\n",
    "coord = train_set_visualise[n]\n",
    "coord1 = train_dataset[n]\n",
    "print(coord)\n",
    "print(f\"N_flux value: {N_flux(coord)}\")\n",
    "print(f\"W_0 value: {torch.dot(coord, random_vector)}\")\n",
    "print(coord1)"
   ]
  },
  {
   "cell_type": "code",
   "execution_count": 14,
   "id": "c79f3b33",
   "metadata": {},
   "outputs": [
    {
     "name": "stdout",
     "output_type": "stream",
     "text": [
      "There is a total of 7000 data.\n"
     ]
    },
    {
     "data": {
      "image/png": "[encoded data removed]",
      "text/plain": [
       "<Figure size 640x480 with 1 Axes>"
      ]
     },
     "metadata": {},
     "output_type": "display_data"
    }
   ],
   "source": [
    "print(f\"There is a total of {len(N_flux_data)} data.\")\n",
    "plt.hist(list(N_flux_data), bins=50)\n",
    "plt.vlines(x1, 0, 350, color='red')\n",
    "plt.vlines(x2, 0, 350, color='red')\n",
    "plt.text(x1, -20, f'{x1}', color='red', ha='center')\n",
    "plt.text(x2, -20, f'{x2}', color='red', ha='center')\n",
    "plt.xlabel(\"N_flux\")\n",
    "plt.ylabel(\"Frequency\")\n",
    "plt.title(\"The distribution for N_flux of the training set\")\n",
    "plt.show()"
   ]
  },
  {
   "cell_type": "code",
   "execution_count": 15,
   "id": "3d392afe",
   "metadata": {},
   "outputs": [
    {
     "name": "stdout",
     "output_type": "stream",
     "text": [
      "There is a total of 7000 data.\n"
     ]
    },
    {
     "data": {
      "image/png": "[encoded data removed]",
      "text/plain": [
       "<Figure size 640x480 with 1 Axes>"
      ]
     },
     "metadata": {},
     "output_type": "display_data"
    }
   ],
   "source": [
    "print(f\"There is a total of {len(W0_data)} data.\")\n",
    "plt.hist(list(W0_data), bins=50)\n",
    "plt.vlines(z1, 0, 350, color='red')\n",
    "plt.vlines(z2, 0, 350, color='red')\n",
    "plt.text(z1, -20, f'{z1}', color='red', ha='center')\n",
    "plt.text(z2, -20, f'{z2}', color='red', ha='center')\n",
    "plt.xlabel(\"W_0\")\n",
    "plt.ylabel(\"Frequency\")\n",
    "plt.title(\"The distribution for superpotential W_0 of the training set\")\n",
    "plt.show()"
   ]
  },
  {
   "cell_type": "code",
   "execution_count": 16,
   "id": "fdcdc772",
   "metadata": {},
   "outputs": [],
   "source": [
    "train_loader = torch.utils.data.DataLoader(train_dataset, batch_size=batch_size, shuffle=True)\n",
    "test_loader = torch.utils.data.DataLoader(test_dataset, batch_size=batch_size, shuffle=False)"
   ]
  },
  {
   "cell_type": "markdown",
   "id": "42343b05-cacd-4799-af6a-cf0818c71116",
   "metadata": {},
   "source": [
    "## Model training"
   ]
  },
  {
   "cell_type": "code",
   "execution_count": 17,
   "id": "0c46d538",
   "metadata": {},
   "outputs": [
    {
     "name": "stderr",
     "output_type": "stream",
     "text": [
      "[train] epoch: 0:   0%|          | 0/55 [00:00<?, ?it/s]"
     ]
    },
    {
     "name": "stderr",
     "output_type": "stream",
     "text": [
      "[train] epoch: 0: 100%|██████████| 55/55 [00:00<00:00, 194.85it/s]\n"
     ]
    },
    {
     "name": "stdout",
     "output_type": "stream",
     "text": [
      "epoch: 0 | Train Loss: 78.9146\n"
     ]
    },
    {
     "name": "stderr",
     "output_type": "stream",
     "text": [
      "[eval] epoch: 0: 100%|██████████| 12/12 [00:00<00:00, 240.57it/s]\n"
     ]
    },
    {
     "name": "stdout",
     "output_type": "stream",
     "text": [
      "epoch: 0 | Test Loss: 7.4027\n",
      "Mu Mean: 0.001994436141103506, Mu Std: 0.029774898663163185\n"
     ]
    },
    {
     "name": "stderr",
     "output_type": "stream",
     "text": [
      "[train] epoch: 1: 100%|██████████| 55/55 [00:00<00:00, 157.31it/s]\n"
     ]
    },
    {
     "name": "stdout",
     "output_type": "stream",
     "text": [
      "epoch: 1 | Train Loss: 2.2630\n"
     ]
    },
    {
     "name": "stderr",
     "output_type": "stream",
     "text": [
      "[eval] epoch: 1: 100%|██████████| 12/12 [00:00<00:00, 222.42it/s]\n"
     ]
    },
    {
     "name": "stdout",
     "output_type": "stream",
     "text": [
      "epoch: 1 | Test Loss: 0.6800\n",
      "Mu Mean: -0.00022512678697239608, Mu Std: 0.020894652232527733\n"
     ]
    },
    {
     "name": "stderr",
     "output_type": "stream",
     "text": [
      "[train] epoch: 2: 100%|██████████| 55/55 [00:00<00:00, 244.06it/s]\n"
     ]
    },
    {
     "name": "stdout",
     "output_type": "stream",
     "text": [
      "epoch: 2 | Train Loss: 0.5248\n"
     ]
    },
    {
     "name": "stderr",
     "output_type": "stream",
     "text": [
      "[eval] epoch: 2: 100%|██████████| 12/12 [00:00<00:00, 431.78it/s]\n"
     ]
    },
    {
     "name": "stdout",
     "output_type": "stream",
     "text": [
      "epoch: 2 | Test Loss: 0.3571\n",
      "Mu Mean: 0.00011082457058364525, Mu Std: 0.018103361129760742\n"
     ]
    },
    {
     "name": "stderr",
     "output_type": "stream",
     "text": [
      "[train] epoch: 3: 100%|██████████| 55/55 [00:00<00:00, 275.19it/s]\n"
     ]
    },
    {
     "name": "stdout",
     "output_type": "stream",
     "text": [
      "epoch: 3 | Train Loss: 0.3446\n"
     ]
    },
    {
     "name": "stderr",
     "output_type": "stream",
     "text": [
      "[eval] epoch: 3: 100%|██████████| 12/12 [00:00<00:00, 428.96it/s]\n"
     ]
    },
    {
     "name": "stdout",
     "output_type": "stream",
     "text": [
      "epoch: 3 | Test Loss: 0.2687\n",
      "Mu Mean: 7.639139221282676e-05, Mu Std: 0.016238031908869743\n"
     ]
    },
    {
     "name": "stderr",
     "output_type": "stream",
     "text": [
      "[train] epoch: 4: 100%|██████████| 55/55 [00:00<00:00, 69.30it/s] \n"
     ]
    },
    {
     "name": "stdout",
     "output_type": "stream",
     "text": [
      "epoch: 4 | Train Loss: 0.2907\n"
     ]
    },
    {
     "name": "stderr",
     "output_type": "stream",
     "text": [
      "[eval] epoch: 4: 100%|██████████| 12/12 [00:00<00:00, 92.31it/s]\n"
     ]
    },
    {
     "name": "stdout",
     "output_type": "stream",
     "text": [
      "epoch: 4 | Test Loss: 0.2401\n",
      "Mu Mean: 0.00041501791565679014, Mu Std: 0.014848860912024975\n"
     ]
    },
    {
     "name": "stderr",
     "output_type": "stream",
     "text": [
      "[train] epoch: 5: 100%|██████████| 55/55 [00:00<00:00, 192.28it/s]\n"
     ]
    },
    {
     "name": "stdout",
     "output_type": "stream",
     "text": [
      "epoch: 5 | Train Loss: 0.2735\n"
     ]
    },
    {
     "name": "stderr",
     "output_type": "stream",
     "text": [
      "[eval] epoch: 5: 100%|██████████| 12/12 [00:00<00:00, 382.82it/s]\n"
     ]
    },
    {
     "name": "stdout",
     "output_type": "stream",
     "text": [
      "epoch: 5 | Test Loss: 0.2305\n",
      "Mu Mean: 0.00028149643912911415, Mu Std: 0.013763688504695892\n"
     ]
    },
    {
     "name": "stderr",
     "output_type": "stream",
     "text": [
      "[train] epoch: 6: 100%|██████████| 55/55 [00:00<00:00, 252.27it/s]\n"
     ]
    },
    {
     "name": "stdout",
     "output_type": "stream",
     "text": [
      "epoch: 6 | Train Loss: 0.2670\n"
     ]
    },
    {
     "name": "stderr",
     "output_type": "stream",
     "text": [
      "[eval] epoch: 6: 100%|██████████| 12/12 [00:00<00:00, 395.21it/s]\n"
     ]
    },
    {
     "name": "stdout",
     "output_type": "stream",
     "text": [
      "epoch: 6 | Test Loss: 0.2256\n",
      "Mu Mean: 0.0005265119834803045, Mu Std: 0.0128372423350811\n"
     ]
    },
    {
     "name": "stderr",
     "output_type": "stream",
     "text": [
      "[train] epoch: 7: 100%|██████████| 55/55 [00:00<00:00, 246.57it/s]\n"
     ]
    },
    {
     "name": "stdout",
     "output_type": "stream",
     "text": [
      "epoch: 7 | Train Loss: 0.2631\n"
     ]
    },
    {
     "name": "stderr",
     "output_type": "stream",
     "text": [
      "[eval] epoch: 7: 100%|██████████| 12/12 [00:00<00:00, 385.95it/s]\n"
     ]
    },
    {
     "name": "stdout",
     "output_type": "stream",
     "text": [
      "epoch: 7 | Test Loss: 0.2222\n",
      "Mu Mean: 2.0433044483070262e-05, Mu Std: 0.011837294325232506\n"
     ]
    },
    {
     "name": "stderr",
     "output_type": "stream",
     "text": [
      "[train] epoch: 8: 100%|██████████| 55/55 [00:00<00:00, 119.27it/s]\n"
     ]
    },
    {
     "name": "stdout",
     "output_type": "stream",
     "text": [
      "epoch: 8 | Train Loss: 0.2599\n"
     ]
    },
    {
     "name": "stderr",
     "output_type": "stream",
     "text": [
      "[eval] epoch: 8: 100%|██████████| 12/12 [00:00<00:00, 324.60it/s]\n"
     ]
    },
    {
     "name": "stdout",
     "output_type": "stream",
     "text": [
      "epoch: 8 | Test Loss: 0.2195\n",
      "Mu Mean: 0.00011798120976891369, Mu Std: 0.011460576206445694\n"
     ]
    },
    {
     "name": "stderr",
     "output_type": "stream",
     "text": [
      "[train] epoch: 9: 100%|██████████| 55/55 [00:00<00:00, 229.39it/s]\n"
     ]
    },
    {
     "name": "stdout",
     "output_type": "stream",
     "text": [
      "epoch: 9 | Train Loss: 0.2571\n"
     ]
    },
    {
     "name": "stderr",
     "output_type": "stream",
     "text": [
      "[eval] epoch: 9: 100%|██████████| 12/12 [00:00<00:00, 384.81it/s]\n"
     ]
    },
    {
     "name": "stdout",
     "output_type": "stream",
     "text": [
      "epoch: 9 | Test Loss: 0.2172\n",
      "Mu Mean: 0.00036058967816643417, Mu Std: 0.011341040022671223\n"
     ]
    },
    {
     "name": "stderr",
     "output_type": "stream",
     "text": [
      "[train] epoch: 10: 100%|██████████| 55/55 [00:00<00:00, 244.25it/s]\n"
     ]
    },
    {
     "name": "stdout",
     "output_type": "stream",
     "text": [
      "epoch: 10 | Train Loss: 0.2547\n"
     ]
    },
    {
     "name": "stderr",
     "output_type": "stream",
     "text": [
      "[eval] epoch: 10: 100%|██████████| 12/12 [00:00<00:00, 436.06it/s]\n"
     ]
    },
    {
     "name": "stdout",
     "output_type": "stream",
     "text": [
      "epoch: 10 | Test Loss: 0.2146\n",
      "Mu Mean: 0.00032445494434796274, Mu Std: 0.010204466991126537\n"
     ]
    },
    {
     "name": "stderr",
     "output_type": "stream",
     "text": [
      "[train] epoch: 11: 100%|██████████| 55/55 [00:00<00:00, 252.13it/s]\n"
     ]
    },
    {
     "name": "stdout",
     "output_type": "stream",
     "text": [
      "epoch: 11 | Train Loss: 0.2523\n"
     ]
    },
    {
     "name": "stderr",
     "output_type": "stream",
     "text": [
      "[eval] epoch: 11: 100%|██████████| 12/12 [00:00<00:00, 332.74it/s]\n"
     ]
    },
    {
     "name": "stdout",
     "output_type": "stream",
     "text": [
      "epoch: 11 | Test Loss: 0.2125\n",
      "Mu Mean: 0.00019804833573289216, Mu Std: 0.009685967117547989\n"
     ]
    },
    {
     "name": "stderr",
     "output_type": "stream",
     "text": [
      "[train] epoch: 12: 100%|██████████| 55/55 [00:00<00:00, 227.70it/s]\n"
     ]
    },
    {
     "name": "stdout",
     "output_type": "stream",
     "text": [
      "epoch: 12 | Train Loss: 0.2502\n"
     ]
    },
    {
     "name": "stderr",
     "output_type": "stream",
     "text": [
      "[eval] epoch: 12: 100%|██████████| 12/12 [00:00<00:00, 370.27it/s]\n"
     ]
    },
    {
     "name": "stdout",
     "output_type": "stream",
     "text": [
      "epoch: 12 | Test Loss: 0.2113\n",
      "Mu Mean: 0.00037157017504796386, Mu Std: 0.010325362905859947\n"
     ]
    },
    {
     "name": "stderr",
     "output_type": "stream",
     "text": [
      "[train] epoch: 13: 100%|██████████| 55/55 [00:00<00:00, 241.47it/s]\n"
     ]
    },
    {
     "name": "stdout",
     "output_type": "stream",
     "text": [
      "epoch: 13 | Train Loss: 0.2483\n"
     ]
    },
    {
     "name": "stderr",
     "output_type": "stream",
     "text": [
      "[eval] epoch: 13: 100%|██████████| 12/12 [00:00<00:00, 401.24it/s]\n"
     ]
    },
    {
     "name": "stdout",
     "output_type": "stream",
     "text": [
      "epoch: 13 | Test Loss: 0.2088\n",
      "Mu Mean: 3.097565786447376e-05, Mu Std: 0.009211703203618526\n"
     ]
    },
    {
     "name": "stderr",
     "output_type": "stream",
     "text": [
      "[train] epoch: 14: 100%|██████████| 55/55 [00:00<00:00, 242.48it/s]\n"
     ]
    },
    {
     "name": "stdout",
     "output_type": "stream",
     "text": [
      "epoch: 14 | Train Loss: 0.2463\n"
     ]
    },
    {
     "name": "stderr",
     "output_type": "stream",
     "text": [
      "[eval] epoch: 14: 100%|██████████| 12/12 [00:00<00:00, 241.16it/s]\n"
     ]
    },
    {
     "name": "stdout",
     "output_type": "stream",
     "text": [
      "epoch: 14 | Test Loss: 0.2075\n",
      "Mu Mean: -0.00020877370843663812, Mu Std: 0.009267915040254593\n"
     ]
    },
    {
     "name": "stderr",
     "output_type": "stream",
     "text": [
      "[train] epoch: 15: 100%|██████████| 55/55 [00:00<00:00, 222.41it/s]\n"
     ]
    },
    {
     "name": "stdout",
     "output_type": "stream",
     "text": [
      "epoch: 15 | Train Loss: 0.2446\n"
     ]
    },
    {
     "name": "stderr",
     "output_type": "stream",
     "text": [
      "[eval] epoch: 15: 100%|██████████| 12/12 [00:00<00:00, 317.77it/s]\n"
     ]
    },
    {
     "name": "stdout",
     "output_type": "stream",
     "text": [
      "epoch: 15 | Test Loss: 0.2054\n",
      "Mu Mean: 0.00013995221524965018, Mu Std: 0.008344988338649273\n"
     ]
    },
    {
     "name": "stderr",
     "output_type": "stream",
     "text": [
      "[train] epoch: 16: 100%|██████████| 55/55 [00:00<00:00, 215.37it/s]\n"
     ]
    },
    {
     "name": "stdout",
     "output_type": "stream",
     "text": [
      "epoch: 16 | Train Loss: 0.2429\n"
     ]
    },
    {
     "name": "stderr",
     "output_type": "stream",
     "text": [
      "[eval] epoch: 16: 100%|██████████| 12/12 [00:00<00:00, 377.94it/s]\n"
     ]
    },
    {
     "name": "stdout",
     "output_type": "stream",
     "text": [
      "epoch: 16 | Test Loss: 0.2042\n",
      "Mu Mean: 5.253312338027172e-06, Mu Std: 0.008405528962612152\n"
     ]
    },
    {
     "name": "stderr",
     "output_type": "stream",
     "text": [
      "[train] epoch: 17: 100%|██████████| 55/55 [00:00<00:00, 203.38it/s]\n"
     ]
    },
    {
     "name": "stdout",
     "output_type": "stream",
     "text": [
      "epoch: 17 | Train Loss: 0.2414\n"
     ]
    },
    {
     "name": "stderr",
     "output_type": "stream",
     "text": [
      "[eval] epoch: 17: 100%|██████████| 12/12 [00:00<00:00, 368.79it/s]\n"
     ]
    },
    {
     "name": "stdout",
     "output_type": "stream",
     "text": [
      "epoch: 17 | Test Loss: 0.2030\n",
      "Mu Mean: 0.0001475717726862058, Mu Std: 0.009069769643247128\n"
     ]
    },
    {
     "name": "stderr",
     "output_type": "stream",
     "text": [
      "[train] epoch: 18: 100%|██████████| 55/55 [00:00<00:00, 232.06it/s]\n"
     ]
    },
    {
     "name": "stdout",
     "output_type": "stream",
     "text": [
      "epoch: 18 | Train Loss: 0.2399\n"
     ]
    },
    {
     "name": "stderr",
     "output_type": "stream",
     "text": [
      "[eval] epoch: 18: 100%|██████████| 12/12 [00:00<00:00, 389.08it/s]\n"
     ]
    },
    {
     "name": "stdout",
     "output_type": "stream",
     "text": [
      "epoch: 18 | Test Loss: 0.2013\n",
      "Mu Mean: -7.71087798057124e-05, Mu Std: 0.008261751383543015\n"
     ]
    },
    {
     "name": "stderr",
     "output_type": "stream",
     "text": [
      "[train] epoch: 19: 100%|██████████| 55/55 [00:00<00:00, 234.87it/s]\n"
     ]
    },
    {
     "name": "stdout",
     "output_type": "stream",
     "text": [
      "epoch: 19 | Train Loss: 0.2386\n"
     ]
    },
    {
     "name": "stderr",
     "output_type": "stream",
     "text": [
      "[eval] epoch: 19: 100%|██████████| 12/12 [00:00<00:00, 372.18it/s]\n"
     ]
    },
    {
     "name": "stdout",
     "output_type": "stream",
     "text": [
      "epoch: 19 | Test Loss: 0.2001\n",
      "Mu Mean: 0.0004184668359812349, Mu Std: 0.008127138949930668\n"
     ]
    },
    {
     "name": "stderr",
     "output_type": "stream",
     "text": [
      "[train] epoch: 20: 100%|██████████| 55/55 [00:00<00:00, 269.51it/s]\n"
     ]
    },
    {
     "name": "stdout",
     "output_type": "stream",
     "text": [
      "epoch: 20 | Train Loss: 0.2372\n"
     ]
    },
    {
     "name": "stderr",
     "output_type": "stream",
     "text": [
      "[eval] epoch: 20: 100%|██████████| 12/12 [00:00<00:00, 384.72it/s]\n"
     ]
    },
    {
     "name": "stdout",
     "output_type": "stream",
     "text": [
      "epoch: 20 | Test Loss: 0.1988\n",
      "Mu Mean: -0.00015879828424658626, Mu Std: 0.00749504379928112\n"
     ]
    },
    {
     "name": "stderr",
     "output_type": "stream",
     "text": [
      "[train] epoch: 21: 100%|██████████| 55/55 [00:00<00:00, 257.38it/s]\n"
     ]
    },
    {
     "name": "stdout",
     "output_type": "stream",
     "text": [
      "epoch: 21 | Train Loss: 0.2358\n"
     ]
    },
    {
     "name": "stderr",
     "output_type": "stream",
     "text": [
      "[eval] epoch: 21: 100%|██████████| 12/12 [00:00<00:00, 403.30it/s]\n"
     ]
    },
    {
     "name": "stdout",
     "output_type": "stream",
     "text": [
      "epoch: 21 | Test Loss: 0.1985\n",
      "Mu Mean: -0.00024004874285310507, Mu Std: 0.00873870775103569\n"
     ]
    },
    {
     "name": "stderr",
     "output_type": "stream",
     "text": [
      "[train] epoch: 22: 100%|██████████| 55/55 [00:00<00:00, 131.15it/s]\n"
     ]
    },
    {
     "name": "stdout",
     "output_type": "stream",
     "text": [
      "epoch: 22 | Train Loss: 0.2346\n"
     ]
    },
    {
     "name": "stderr",
     "output_type": "stream",
     "text": [
      "[eval] epoch: 22: 100%|██████████| 12/12 [00:00<00:00, 310.92it/s]\n"
     ]
    },
    {
     "name": "stdout",
     "output_type": "stream",
     "text": [
      "epoch: 22 | Test Loss: 0.1962\n",
      "Mu Mean: -5.077453897683881e-05, Mu Std: 0.006977807730436325\n"
     ]
    },
    {
     "name": "stderr",
     "output_type": "stream",
     "text": [
      "[train] epoch: 23: 100%|██████████| 55/55 [00:00<00:00, 221.31it/s]\n"
     ]
    },
    {
     "name": "stdout",
     "output_type": "stream",
     "text": [
      "epoch: 23 | Train Loss: 0.2334\n"
     ]
    },
    {
     "name": "stderr",
     "output_type": "stream",
     "text": [
      "[eval] epoch: 23: 100%|██████████| 12/12 [00:00<00:00, 382.85it/s]\n"
     ]
    },
    {
     "name": "stdout",
     "output_type": "stream",
     "text": [
      "epoch: 23 | Test Loss: 0.1953\n",
      "Mu Mean: 2.5576337066013366e-05, Mu Std: 0.007181084714829922\n"
     ]
    },
    {
     "name": "stderr",
     "output_type": "stream",
     "text": [
      "[train] epoch: 24: 100%|██████████| 55/55 [00:00<00:00, 252.13it/s]\n"
     ]
    },
    {
     "name": "stdout",
     "output_type": "stream",
     "text": [
      "epoch: 24 | Train Loss: 0.2321\n"
     ]
    },
    {
     "name": "stderr",
     "output_type": "stream",
     "text": [
      "[eval] epoch: 24: 100%|██████████| 12/12 [00:00<00:00, 391.21it/s]\n"
     ]
    },
    {
     "name": "stdout",
     "output_type": "stream",
     "text": [
      "epoch: 24 | Test Loss: 0.1945\n",
      "Mu Mean: 0.00019749529019463807, Mu Std: 0.0073613366112113\n"
     ]
    },
    {
     "name": "stderr",
     "output_type": "stream",
     "text": [
      "[train] epoch: 25: 100%|██████████| 55/55 [00:00<00:00, 247.09it/s]\n"
     ]
    },
    {
     "name": "stdout",
     "output_type": "stream",
     "text": [
      "epoch: 25 | Train Loss: 0.2312\n"
     ]
    },
    {
     "name": "stderr",
     "output_type": "stream",
     "text": [
      "[eval] epoch: 25: 100%|██████████| 12/12 [00:00<00:00, 387.62it/s]\n"
     ]
    },
    {
     "name": "stdout",
     "output_type": "stream",
     "text": [
      "epoch: 25 | Test Loss: 0.1934\n",
      "Mu Mean: -7.082043885020539e-05, Mu Std: 0.0071450769901275635\n"
     ]
    },
    {
     "name": "stderr",
     "output_type": "stream",
     "text": [
      "[train] epoch: 26: 100%|██████████| 55/55 [00:00<00:00, 238.17it/s]\n"
     ]
    },
    {
     "name": "stdout",
     "output_type": "stream",
     "text": [
      "epoch: 26 | Train Loss: 0.2301\n"
     ]
    },
    {
     "name": "stderr",
     "output_type": "stream",
     "text": [
      "[eval] epoch: 26: 100%|██████████| 12/12 [00:00<00:00, 388.77it/s]\n"
     ]
    },
    {
     "name": "stdout",
     "output_type": "stream",
     "text": [
      "epoch: 26 | Test Loss: 0.1934\n",
      "Mu Mean: 0.00013998917711433023, Mu Std: 0.008651216514408588\n"
     ]
    },
    {
     "name": "stderr",
     "output_type": "stream",
     "text": [
      "[train] epoch: 27: 100%|██████████| 55/55 [00:00<00:00, 255.97it/s]\n"
     ]
    },
    {
     "name": "stdout",
     "output_type": "stream",
     "text": [
      "epoch: 27 | Train Loss: 0.2294\n"
     ]
    },
    {
     "name": "stderr",
     "output_type": "stream",
     "text": [
      "[eval] epoch: 27: 100%|██████████| 12/12 [00:00<00:00, 410.63it/s]\n"
     ]
    },
    {
     "name": "stdout",
     "output_type": "stream",
     "text": [
      "epoch: 27 | Test Loss: 0.1915\n",
      "Mu Mean: -6.0269074310781434e-05, Mu Std: 0.006663082633167505\n"
     ]
    },
    {
     "name": "stderr",
     "output_type": "stream",
     "text": [
      "[train] epoch: 28: 100%|██████████| 55/55 [00:00<00:00, 232.49it/s]\n"
     ]
    },
    {
     "name": "stdout",
     "output_type": "stream",
     "text": [
      "epoch: 28 | Train Loss: 0.2283\n"
     ]
    },
    {
     "name": "stderr",
     "output_type": "stream",
     "text": [
      "[eval] epoch: 28: 100%|██████████| 12/12 [00:00<00:00, 377.49it/s]\n"
     ]
    },
    {
     "name": "stdout",
     "output_type": "stream",
     "text": [
      "epoch: 28 | Test Loss: 0.1906\n",
      "Mu Mean: 6.788787140976638e-05, Mu Std: 0.00632775854319334\n"
     ]
    },
    {
     "name": "stderr",
     "output_type": "stream",
     "text": [
      "[train] epoch: 29: 100%|██████████| 55/55 [00:00<00:00, 238.19it/s]\n"
     ]
    },
    {
     "name": "stdout",
     "output_type": "stream",
     "text": [
      "epoch: 29 | Train Loss: 0.2274\n"
     ]
    },
    {
     "name": "stderr",
     "output_type": "stream",
     "text": [
      "[eval] epoch: 29: 100%|██████████| 12/12 [00:00<00:00, 356.32it/s]"
     ]
    },
    {
     "name": "stdout",
     "output_type": "stream",
     "text": [
      "epoch: 29 | Test Loss: 0.1902\n",
      "Mu Mean: 2.790201506286394e-05, Mu Std: 0.007222538813948631\n",
      "cvae_pytorch_flux_vacua_8.pth is saved\n"
     ]
    },
    {
     "name": "stderr",
     "output_type": "stream",
     "text": [
      "\n"
     ]
    }
   ],
   "source": [
    "def cluster_loss(latent_space, labels):\n",
    "    \"\"\"\n",
    "    Penalizes clusters in the latent space that are too close to each other.\n",
    "    Args:\n",
    "        latent_space (torch.Tensor): Latent space vectors (batch_size, latent_size).\n",
    "        labels (torch.Tensor): Integer labels (batch_size).\n",
    "    Returns:\n",
    "        torch.Tensor: The cluster loss value.\n",
    "    \"\"\"\n",
    "    unique_labels = torch.unique(labels)\n",
    "    cluster_centers = []\n",
    "    for label in unique_labels:\n",
    "        cluster_points = latent_space[labels == label]\n",
    "        cluster_centers.append(cluster_points.mean(dim=0))\n",
    "    cluster_centers = torch.stack(cluster_centers)\n",
    "    pairwise_distances = torch.cdist(cluster_centers, cluster_centers)\n",
    "    return torch.sum(torch.exp(-pairwise_distances))  # Penalize clusters that are too close\n",
    "\n",
    "\n",
    "# Training loop\n",
    "modelname = 'cvae_pytorch_flux_vacua_8.pth'\n",
    "\n",
    "for epoch in range(epochs):   \n",
    "    '''Model Training'''\n",
    "    train_loss = 0  # Reset loss for each epoch\n",
    "\n",
    "    for imgs, lbls in tqdm(train_loader, desc=f'[train] epoch: {epoch}'):\n",
    "        bs = imgs.shape[0]\n",
    "        imgs = imgs.view(bs, input_size).to(device)\n",
    "        lbls_onehot = label_to_onehot(lbls.to(device), condition_size)\n",
    "\n",
    "        # Forward pass\n",
    "        logits, mu, sigma = model(imgs, lbls_onehot)  # logits is a tuple of 8 logits\n",
    "        \n",
    "        # Calculate targets dynamically\n",
    "        targets = [imgs[:, i * 21:(i + 1) * 21].argmax(dim=1) for i in range(8)]\n",
    "\n",
    "        # Calculate categorical cross-entropy losses\n",
    "        loss_re = sum(loss_CE(logit, target) for logit, target in zip(logits, targets))\n",
    "\n",
    "        # KLD regularization\n",
    "        loss_norm = loss_KLD(mu, sigma)\n",
    "\n",
    "        # Cluster loss\n",
    "        latent_space = mu\n",
    "        cluster_loss_value = cluster_loss(latent_space, lbls)\n",
    "\n",
    "\n",
    "        # Combine the losses \n",
    "        beta = 0.5\n",
    "        gamma = 2  # Weight for the cluster loss term\n",
    "        loss = loss_re + beta * loss_norm + gamma * cluster_loss_value\n",
    "\n",
    "        # Backpropagation\n",
    "        loss.backward()\n",
    "        optimizer.step()\n",
    "        optimizer.zero_grad()\n",
    "\n",
    "        # Record total loss\n",
    "        train_loss += loss.item()\n",
    "\n",
    "    # Print average loss\n",
    "    print(f'epoch: {epoch} | Train Loss: {train_loss / len(train_loader.dataset):.4f}')\n",
    "\n",
    "    # Evaluate the model\n",
    "    model.eval()\n",
    "    test_loss = 0\n",
    "    for imgs, lbls in tqdm(test_loader, desc=f'[eval] epoch: {epoch}'):\n",
    "        bs = imgs.shape[0]\n",
    "        imgs = imgs.view(bs, input_size).to(device)\n",
    "        lbls_onehot = label_to_onehot(lbls.to(device), condition_size)\n",
    "\n",
    "        # Forward pass\n",
    "        logits, mu, sigma = model(imgs, lbls_onehot)\n",
    "\n",
    "        # Calculate targets dynamically\n",
    "        targets = [imgs[:, i * 21:(i + 1) * 21].argmax(dim=1) for i in range(8)]\n",
    "\n",
    "        # Calculate categorical cross-entropy losses\n",
    "        loss_re = sum(loss_CE(logit, target) for logit, target in zip(logits, targets))\n",
    "\n",
    "        # KLD regularization\n",
    "        loss_norm = loss_KLD(mu, sigma)\n",
    "\n",
    "        # Cluster loss\n",
    "        latent_space = mu\n",
    "        cluster_loss_value = cluster_loss(latent_space, lbls)\n",
    "\n",
    "        # Combine the losses\n",
    "        loss = loss_re + beta * loss_norm + gamma * cluster_loss_value\n",
    "\n",
    "        # Record total loss\n",
    "        test_loss += loss.item()\n",
    "\n",
    "    # Print test loss\n",
    "    print(f'epoch: {epoch} | Test Loss: {test_loss / len(test_loader.dataset):.4f}')\n",
    "    model.train()\n",
    "\n",
    "    print(f\"Mu Mean: {mu.mean().item()}, Mu Std: {mu.std().item()}\")\n",
    "\n",
    "# Save the model\n",
    "torch.save(model.state_dict(), modelname)\n",
    "print(f\"{modelname} is saved\")"
   ]
  },
  {
   "cell_type": "markdown",
   "id": "0cd82e0e",
   "metadata": {},
   "source": [
    "## Latent space plotting"
   ]
  },
  {
   "cell_type": "code",
   "execution_count": 23,
   "id": "e62bac46",
   "metadata": {},
   "outputs": [
    {
     "data": {
      "image/png": "[encoded data removed]",
      "text/plain": [
       "<Figure size 800x600 with 2 Axes>"
      ]
     },
     "metadata": {},
     "output_type": "display_data"
    },
    {
     "name": "stdout",
     "output_type": "stream",
     "text": [
      "{np.int64(0): (array([ 0.02260436,  0.02378246,  0.03047337, -0.05631794,  0.00586086,\n",
      "        0.02063101, -0.05671   ,  0.022431  , -0.01126269,  0.0563517 ,\n",
      "       -0.00813027,  0.01235398, -0.01874589, -0.04784952, -0.00207008,\n",
      "       -0.04884906, -0.00181543, -0.0356809 ,  0.015193  ,  0.03965433,\n",
      "        0.00263301, -0.06124546, -0.01271274, -0.00136991, -0.07160051,\n",
      "       -0.04423557, -0.02113982, -0.01233456,  0.0326229 ,  0.01617621,\n",
      "        0.02147811, -0.00127233, -0.0164994 , -0.02014508,  0.02367324,\n",
      "       -0.0036677 ,  0.02538772,  0.04024016, -0.01655871,  0.00294312,\n",
      "       -0.03494394,  0.0241364 ,  0.04343011,  0.00491856,  0.00387428,\n",
      "        0.04115749,  0.02508067,  0.02659555,  0.00471231, -0.01387829,\n",
      "        0.01113753, -0.01422492,  0.02262071,  0.01532365,  0.02657464,\n",
      "       -0.00838351,  0.02684829, -0.02574999,  0.02465291, -0.01985257,\n",
      "        0.05140841, -0.02626036,  0.04558718, -0.01257186, -0.02308712,\n",
      "        0.01053573, -0.02132851,  0.05535541,  0.02120366,  0.0211853 ,\n",
      "        0.01567672, -0.02076318, -0.00874143, -0.02622236,  0.01971365,\n",
      "       -0.01721018,  0.00351535, -0.00159718, -0.01746917,  0.0167384 ,\n",
      "        0.00736775, -0.02539428, -0.05684337,  0.00597519,  0.02067214,\n",
      "        0.01974054, -0.07031867,  0.0271931 ,  0.01732061, -0.00548782,\n",
      "       -0.04536399,  0.02229301,  0.00680201, -0.00725888,  0.04454922,\n",
      "        0.04719647,  0.00032814,  0.02208676, -0.02818929, -0.0151347 ,\n",
      "        0.00559053,  0.02247171, -0.02215895,  0.01175146,  0.01364441,\n",
      "        0.01628926, -0.02307883,  0.04848244, -0.05678065,  0.01983801,\n",
      "        0.00304676, -0.02368668, -0.02353301, -0.00115864, -0.05262079,\n",
      "        0.0049374 ,  0.02995454, -0.0359841 , -0.0245867 , -0.0154294 ,\n",
      "        0.05351824, -0.01597216,  0.00144668, -0.04823515,  0.0301573 ,\n",
      "       -0.02565104, -0.02626326, -0.01079436], dtype=float32), array([1.64456033e-05, 1.44138603e-05, 5.15743923e-05, 6.59655270e-05,\n",
      "       9.20468756e-06, 1.40560314e-05, 6.74939511e-05, 2.25799795e-05,\n",
      "       1.27867470e-05, 8.35395331e-05, 1.63261993e-05, 1.52770626e-05,\n",
      "       1.90699247e-05, 5.29831195e-05, 2.37704426e-05, 5.75157610e-05,\n",
      "       1.39169761e-05, 4.92295476e-05, 1.78811006e-05, 4.02944788e-05,\n",
      "       2.85033511e-05, 9.74110881e-05, 9.28827194e-06, 2.03156123e-05,\n",
      "       1.68564744e-04, 5.27562115e-05, 2.32708990e-05, 9.88143620e-06,\n",
      "       3.41414998e-05, 3.69032132e-05, 7.53746208e-05, 7.62375703e-06,\n",
      "       2.20599650e-05, 2.62314388e-05, 3.20046202e-05, 8.59438842e-06,\n",
      "       2.65837498e-05, 4.63941069e-05, 2.84793550e-05, 1.32523528e-05,\n",
      "       3.45168191e-05, 3.59717415e-05, 4.64596051e-05, 1.80098414e-05,\n",
      "       1.57305003e-05, 4.33441528e-05, 3.04121622e-05, 2.98473351e-05,\n",
      "       1.82985314e-05, 3.43739302e-05, 4.93489206e-05, 3.81520331e-05,\n",
      "       1.14312661e-05, 1.51815020e-05, 2.59169628e-05, 5.41172813e-06,\n",
      "       2.39928904e-05, 1.79387571e-05, 2.92007426e-05, 1.75829064e-05,\n",
      "       5.78616637e-05, 2.12415525e-05, 5.96506579e-05, 1.09254252e-05,\n",
      "       6.06280519e-05, 5.39494476e-06, 1.97831014e-05, 6.57499622e-05,\n",
      "       1.90432092e-05, 1.81844662e-05, 3.34838405e-05, 2.59563440e-05,\n",
      "       1.59004194e-05, 1.60006239e-05, 1.67580001e-05, 1.59362553e-05,\n",
      "       4.27493978e-06, 6.01640068e-06, 1.29851887e-05, 1.49674142e-05,\n",
      "       1.01264914e-05, 2.57342599e-05, 7.42560078e-05, 1.36838917e-05,\n",
      "       2.39203655e-05, 1.31429579e-05, 1.12570822e-04, 4.55760492e-05,\n",
      "       2.62987342e-05, 1.10071724e-05, 5.17998924e-05, 3.98887205e-05,\n",
      "       1.11745021e-05, 1.37411635e-05, 4.25886174e-05, 5.46386182e-05,\n",
      "       1.05261370e-05, 1.55277139e-05, 2.49327604e-05, 1.02640752e-05,\n",
      "       3.91867179e-05, 6.55384283e-05, 3.11483673e-05, 8.43899488e-06,\n",
      "       3.07653063e-05, 1.14738205e-05, 1.35311320e-05, 5.09086785e-05,\n",
      "       7.84680233e-05, 1.21184430e-05, 1.30961789e-05, 1.62149918e-05,\n",
      "       1.45199456e-05, 3.22629858e-05, 6.45668915e-05, 2.15034834e-05,\n",
      "       3.12241791e-05, 4.56808993e-05, 2.14840948e-05, 9.68510631e-06,\n",
      "       6.69254805e-05, 1.57530139e-05, 7.86129476e-06, 7.34203204e-05,\n",
      "       3.17109734e-05, 2.62534668e-05, 1.93692013e-05, 4.12069494e-05],\n",
      "      dtype=float32)), np.int64(1): (array([-3.2874078e-03, -8.2828285e-04, -4.7634705e-03,  6.6888495e-03,\n",
      "       -1.0617515e-03, -2.2994934e-03,  6.2273289e-03, -5.6221695e-03,\n",
      "        1.7891848e-03, -7.4051167e-03,  2.4752247e-03, -2.8919803e-03,\n",
      "        5.2113696e-03,  5.3701452e-03, -7.6723698e-04,  6.2431241e-03,\n",
      "       -1.3887810e-03,  6.8034222e-03, -3.2249419e-03, -6.1959047e-03,\n",
      "       -2.3977542e-03,  8.6177597e-03,  7.4222795e-04,  7.0931582e-04,\n",
      "        1.5492034e-02,  5.4289387e-03,  5.3604920e-03,  1.0382922e-03,\n",
      "       -8.9034792e-03, -2.3788386e-03, -5.2886838e-03,  8.1072922e-04,\n",
      "        4.8764879e-03,  5.5620172e-03, -7.3168296e-03,  3.7497684e-04,\n",
      "       -3.0708401e-03, -7.8380927e-03,  2.4354523e-03,  9.6337439e-04,\n",
      "        8.3507784e-03, -2.2900398e-03, -6.7929756e-03,  1.3031803e-04,\n",
      "       -3.1932071e-04, -5.9790988e-03, -8.5287103e-03, -8.3296224e-03,\n",
      "       -9.5652899e-04,  2.3140912e-03, -4.0206010e-03,  2.5330356e-03,\n",
      "       -2.5389667e-03, -1.9190318e-03, -9.0682870e-03,  1.4283686e-03,\n",
      "       -5.1857620e-03,  3.4465122e-03, -7.8576487e-03,  3.6068612e-03,\n",
      "       -5.0607780e-03,  5.0803502e-03, -4.6404721e-03,  8.3896692e-04,\n",
      "        5.2535897e-03, -1.8138218e-03,  3.9264290e-03, -6.7047575e-03,\n",
      "       -2.9263401e-03, -3.4526419e-03, -1.0550648e-03,  5.1848656e-03,\n",
      "        3.2112657e-03,  1.6084642e-03, -3.3717856e-03,  2.9877904e-03,\n",
      "        9.3943591e-04,  5.1975390e-04,  2.1366300e-03, -3.5466936e-03,\n",
      "       -1.1694377e-03,  7.1609025e-03,  7.8900512e-03, -1.0626998e-03,\n",
      "       -5.1999325e-03, -2.8487782e-03,  1.3029985e-02, -3.4684381e-03,\n",
      "       -5.9994212e-03,  4.7530068e-04,  5.9025236e-03, -2.6294030e-03,\n",
      "       -1.2601961e-03, -7.8137105e-05, -6.6047474e-03, -5.0586453e-03,\n",
      "        1.6596687e-03, -2.2419023e-03,  8.8516129e-03,  1.7083605e-03,\n",
      "       -1.7586631e-04, -2.3301824e-03,  7.4102147e-03, -2.7879707e-03,\n",
      "       -3.8383470e-03, -5.6419690e-04,  1.2662577e-03, -5.2915434e-03,\n",
      "        6.9315084e-03, -2.4381075e-03, -4.2298896e-04,  2.5409090e-03,\n",
      "        1.2905900e-03,  8.0815569e-04,  6.9048763e-03, -2.8186631e-03,\n",
      "       -8.9635057e-03,  6.2691895e-03,  4.1834847e-03,  1.2972864e-03,\n",
      "       -5.3608338e-03,  3.7340217e-03, -2.7782129e-04,  5.1016961e-03,\n",
      "       -9.5218541e-03,  9.0973424e-03,  5.0197681e-03,  1.0233092e-03],\n",
      "      dtype=float32), array([1.44787282e-05, 1.27221638e-05, 4.26027691e-05, 5.49349061e-05,\n",
      "       7.51499238e-06, 1.34283182e-05, 5.63849171e-05, 1.98302660e-05,\n",
      "       9.79089964e-06, 6.36611803e-05, 1.54677691e-05, 1.34321544e-05,\n",
      "       1.62326687e-05, 4.13450980e-05, 2.33030150e-05, 4.33880487e-05,\n",
      "       1.19790539e-05, 4.16316543e-05, 1.70140102e-05, 3.12269331e-05,\n",
      "       2.64482678e-05, 7.55919682e-05, 9.22296476e-06, 1.78963619e-05,\n",
      "       1.26292027e-04, 4.58301038e-05, 2.09587470e-05, 9.64054107e-06,\n",
      "       2.81360262e-05, 3.29049217e-05, 6.10812422e-05, 7.12163046e-06,\n",
      "       1.91451254e-05, 2.27735854e-05, 2.75531311e-05, 8.93013294e-06,\n",
      "       2.30130227e-05, 3.90934620e-05, 2.55639679e-05, 1.36277395e-05,\n",
      "       2.86707018e-05, 3.29956420e-05, 3.68747351e-05, 1.63416007e-05,\n",
      "       1.51614604e-05, 3.53494434e-05, 2.60588095e-05, 2.31361919e-05,\n",
      "       1.69209980e-05, 2.71773552e-05, 4.45259138e-05, 3.54119438e-05,\n",
      "       1.07052647e-05, 1.24668068e-05, 1.91069976e-05, 4.92959089e-06,\n",
      "       2.02181418e-05, 1.43599036e-05, 2.37517579e-05, 1.62796678e-05,\n",
      "       4.68033395e-05, 1.65334368e-05, 4.54200745e-05, 9.81661833e-06,\n",
      "       5.56238410e-05, 4.57295164e-06, 1.83735865e-05, 5.39113389e-05,\n",
      "       1.52959201e-05, 1.43605157e-05, 3.39988546e-05, 2.29973193e-05,\n",
      "       1.40362008e-05, 1.39671774e-05, 1.52189423e-05, 1.40668963e-05,\n",
      "       3.64847051e-06, 5.11615644e-06, 1.05359341e-05, 1.15540015e-05,\n",
      "       8.78642459e-06, 2.12326850e-05, 5.72478129e-05, 1.19256683e-05,\n",
      "       2.02129158e-05, 1.13064634e-05, 9.12640389e-05, 3.84609775e-05,\n",
      "       2.28012414e-05, 9.81081303e-06, 4.41478333e-05, 3.67217872e-05,\n",
      "       1.08059612e-05, 1.26519662e-05, 3.52892894e-05, 4.28167405e-05,\n",
      "       9.56910480e-06, 1.21271460e-05, 2.20376151e-05, 9.48237812e-06,\n",
      "       3.63114777e-05, 5.77165156e-05, 2.53182989e-05, 7.15912665e-06,\n",
      "       2.84163398e-05, 9.54219195e-06, 1.08690538e-05, 4.03319791e-05,\n",
      "       6.35974575e-05, 1.03398434e-05, 1.29472810e-05, 1.38116202e-05,\n",
      "       1.29795089e-05, 2.73447731e-05, 5.74983351e-05, 1.73796161e-05,\n",
      "       2.59968947e-05, 3.85861968e-05, 1.75577061e-05, 8.86130147e-06,\n",
      "       5.34595019e-05, 1.30914050e-05, 7.22884988e-06, 6.08581540e-05,\n",
      "       2.62019967e-05, 2.18793921e-05, 1.49220341e-05, 3.47322166e-05],\n",
      "      dtype=float32))}\n"
     ]
    }
   ],
   "source": [
    "import sklearn\n",
    "from sklearn.manifold import TSNE\n",
    "\n",
    "def plot_latent_space_and_calculate_stats(model, data_loader, num_samples=n_train):\n",
    "    model.eval()\n",
    "    latent_vectors = []\n",
    "    labels = []\n",
    "\n",
    "    # Collect latent vectors for a subset of samples\n",
    "    with torch.no_grad():\n",
    "        for imgs, lbls in data_loader:\n",
    "            imgs = imgs.to(device)\n",
    "            lbls = lbls.to(device)\n",
    "            \n",
    "            # Get the latent vectors\n",
    "            lbls_onehot = label_to_onehot(lbls, condition_size)\n",
    "            mu, _ = model.encoder(torch.cat((imgs, lbls_onehot), dim=1))\n",
    "            latent_vectors.append(mu.cpu().numpy())\n",
    "            labels.extend(lbls.cpu().numpy())\n",
    "\n",
    "            if len(latent_vectors) >= num_samples:\n",
    "                break\n",
    "\n",
    "    # Convert to numpy array\n",
    "    latent_vectors = np.concatenate(latent_vectors)[:num_samples]\n",
    "    labels = np.array(labels)[:num_samples]\n",
    "\n",
    "    # Compute cluster statistics: Mean and variance\n",
    "    unique_labels = np.unique(labels)\n",
    "    cluster_stats = {}\n",
    "    for label in unique_labels:\n",
    "        cluster_points = latent_vectors[labels == label]\n",
    "        cluster_mean = np.mean(cluster_points, axis=0)\n",
    "        cluster_var = np.var(cluster_points, axis=0)\n",
    "        cluster_stats[label] = (cluster_mean, cluster_var)\n",
    "\n",
    "    # Reduce dimensionality using t-SNE for visualization\n",
    "    tsne = TSNE(n_components=2)\n",
    "    latent_2d = tsne.fit_transform(latent_vectors[:int(0.1 * len(latent_vectors))])\n",
    "\n",
    "    # Plot the 2D latent space\n",
    "    plt.figure(figsize=(8, 6))\n",
    "    scatter = plt.scatter(\n",
    "        latent_2d[:, 0],\n",
    "        latent_2d[:, 1],\n",
    "        c=labels[:int(0.1 * len(latent_vectors))],\n",
    "        cmap=\"viridis\",\n",
    "        alpha=0.7\n",
    "    )\n",
    "    plt.colorbar(scatter, label=\"Cluster Label\")\n",
    "    plt.title(\"Latent Space Visualization with t-SNE\")\n",
    "    plt.xlabel(\"t-SNE Dim 1\")\n",
    "    plt.ylabel(\"t-SNE Dim 2\")\n",
    "    plt.grid(True)\n",
    "    plt.show()\n",
    "\n",
    "    return cluster_stats\n",
    "\n",
    "# Use the function to plot latent space and calculate cluster statistics\n",
    "cluster_stats = plot_latent_space_and_calculate_stats(model, train_loader)\n",
    "print(cluster_stats)"
   ]
  },
  {
   "cell_type": "markdown",
   "id": "21cfc4db-13a6-442a-9039-c18970c87d03",
   "metadata": {},
   "source": [
    "## Visualisation"
   ]
  },
  {
   "cell_type": "code",
   "execution_count": 19,
   "id": "95bfc933-6338-43bb-a555-c77fe96e51d2",
   "metadata": {},
   "outputs": [
    {
     "name": "stdout",
     "output_type": "stream",
     "text": [
      "Generated flux: [5, 0, 6, 0, -3, 2, 5, -4]\n",
      "43\n"
     ]
    }
   ],
   "source": [
    "'''Model prediction''' # use trained model or saved trained model to predict\n",
    "\n",
    "def generate_sample_from_cluster(cluster_label, epsilon):\n",
    "    \"\"\"\n",
    "    Generate a sample from the Gaussian distribution of the given cluster.\n",
    "\n",
    "    Args:\n",
    "        cluster_label (int): The cluster label (e.g., 0, 1).\n",
    "        epsilon (float): Additional noise factor to add diversity to samples.\n",
    "\n",
    "    Returns:\n",
    "        list: Predicted coordinates from the generated sample.\n",
    "    \"\"\"\n",
    "    # Retrieve mean and variance for the cluster\n",
    "    cluster_mean, cluster_var = cluster_stats[cluster_label]\n",
    "\n",
    "    # Convert mean and variance to tensors and move to the correct device\n",
    "    cluster_mean = torch.tensor(cluster_mean, dtype=torch.float32, device=device)\n",
    "    cluster_var = torch.tensor(cluster_var, dtype=torch.float32, device=device)\n",
    "\n",
    "    # Sample from the Gaussian distribution\n",
    "    epsilon_noise = torch.abs(torch.randn_like(cluster_mean)) * epsilon\n",
    "    gaussian_sample = torch.normal(mean=cluster_mean, std=torch.sqrt(cluster_var) + epsilon_noise)\n",
    "\n",
    "    # One-hot encode the label\n",
    "    i_number = torch.tensor([cluster_label], dtype=torch.long, device=device)\n",
    "    condit = label_to_onehot(i_number, condition_size)\n",
    "\n",
    "    # Concatenate latent sample and condition\n",
    "    inputs = torch.cat((gaussian_sample.unsqueeze(0), condit), dim=1)\n",
    "\n",
    "    # Decode to predict coordinates\n",
    "    with torch.no_grad():\n",
    "        logits = model.decoder(inputs)\n",
    "\n",
    "    # Convert logits to predicted coordinates\n",
    "    predicted_coord = [logit.argmax(dim=1).item() - 10 for logit in logits]\n",
    "    return predicted_coord\n",
    "\n",
    "\n",
    "# Example usage\n",
    "coord = generate_sample_from_cluster(cluster_label=0, epsilon=0.1)\n",
    "print(f\"Generated flux: {coord}\")\n",
    "print(N_flux(coord))"
   ]
  },
  {
   "cell_type": "code",
   "execution_count": 24,
   "id": "dcadf9af",
   "metadata": {},
   "outputs": [
    {
     "name": "stdout",
     "output_type": "stream",
     "text": [
      "The mean value of N_flux from the training set is 59.699.\n"
     ]
    },
    {
     "data": {
      "image/png": "[encoded data removed]",
      "text/plain": [
       "<Figure size 640x480 with 1 Axes>"
      ]
     },
     "metadata": {},
     "output_type": "display_data"
    }
   ],
   "source": [
    "print(f\"The mean value of N_flux from the training set is {np.mean(N_flux_data)}.\")\n",
    "plt.hist(np.array([N_flux(generate_sample_from_cluster(cluster_label=0, epsilon=2)) for i in range(10000)]), bins=30, alpha=0.3, color='tab:red', label='Class 0', density=True)\n",
    "plt.hist(np.array([N_flux(generate_sample_from_cluster(cluster_label=1, epsilon=2)) for i in range(10000)]), bins=30, alpha=0.3, color='tab:blue', label='Class 1', density=True)\n",
    "plt.legend()\n",
    "plt.xlabel(\"N_flux\")\n",
    "plt.ylabel(\"Density\")\n",
    "plt.title(\"N_flux values from the predicted flux coordinates\")\n",
    "plt.show()"
   ]
  },
  {
   "cell_type": "code",
   "execution_count": 25,
   "id": "e654775f",
   "metadata": {},
   "outputs": [
    {
     "name": "stdout",
     "output_type": "stream",
     "text": [
      "The mean value of W_0 from the training set is 22.579.\n"
     ]
    },
    {
     "data": {
      "image/png": "[encoded data removed]",
      "text/plain": [
       "<Figure size 640x480 with 1 Axes>"
      ]
     },
     "metadata": {},
     "output_type": "display_data"
    }
   ],
   "source": [
    "print(f\"The mean value of W_0 from the training set is {np.mean(W0_data)}.\")\n",
    "plt.hist(\n",
    "    np.array([torch.dot(torch.tensor(generate_sample_from_cluster(cluster_label=0, epsilon=2)), random_vector).item() for j in range(10000)]),\n",
    "    bins=30,\n",
    "    alpha=0.3,\n",
    "    color='tab:red',\n",
    "    label='Class 0',\n",
    "    density=True\n",
    ")\n",
    "\n",
    "plt.hist(\n",
    "    np.array([torch.dot(torch.tensor(generate_sample_from_cluster(cluster_label=1, epsilon=2)), random_vector).item() for j in range(10000)]),\n",
    "    bins=30,\n",
    "    alpha=0.3,\n",
    "    color='tab:blue',\n",
    "    label='Class 1',\n",
    "    density=True\n",
    ")\n",
    "\n",
    "plt.legend()\n",
    "plt.xlabel(\"W_0\")\n",
    "plt.ylabel(\"Density\")\n",
    "plt.title(\"W_0 values from the predicted flux coordinates\")\n",
    "plt.show()\n"
   ]
  }
 ],
 "metadata": {
  "kernelspec": {
   "display_name": "vae_env",
   "language": "python",
   "name": "python3"
  },
  "language_info": {
   "codemirror_mode": {
    "name": "ipython",
    "version": 3
   },
   "file_extension": ".py",
   "mimetype": "text/x-python",
   "name": "python",
   "nbconvert_exporter": "python",
   "pygments_lexer": "ipython3",
   "version": "3.12.4"
  }
 },
 "nbformat": 4,
 "nbformat_minor": 5
}
