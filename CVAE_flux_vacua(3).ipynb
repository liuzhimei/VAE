{
 "cells": [
  {
   "cell_type": "markdown",
   "id": "2a6d5c11-3bba-452e-a42f-f7f69ccafbcc",
   "metadata": {},
   "source": [
    "# CVAE on generating flux vacua"
   ]
  },
  {
   "cell_type": "markdown",
   "id": "89b8efe0-3b34-4367-ac6b-441eae2ddedb",
   "metadata": {},
   "source": [
    "## Import libraries"
   ]
  },
  {
   "cell_type": "code",
   "execution_count": 1,
   "id": "a9b79b49-84a0-4652-a1eb-c9ad6378a1cd",
   "metadata": {},
   "outputs": [],
   "source": [
    "import torch\n",
    "import matplotlib.pyplot as plt\n",
    "from torchvision import datasets, transforms\n",
    "from torch import nn, optim\n",
    "from torch.nn import functional as F\n",
    "from tqdm import tqdm\n",
    "import os\n",
    "import numpy as np"
   ]
  },
  {
   "cell_type": "markdown",
   "id": "8f09e1c0",
   "metadata": {},
   "source": [
    "## Define onehot function"
   ]
  },
  {
   "cell_type": "code",
   "execution_count": 2,
   "id": "c9670758",
   "metadata": {},
   "outputs": [],
   "source": [
    "def label_to_onehot(x, max_dim):\n",
    "    \"\"\"\n",
    "    Convert a list of labels to one-hot encoded vectors for values in [0, max_dim - 1].\n",
    "    \n",
    "    Args:\n",
    "        x: list of labels for the input images\n",
    "        max_dim (int): number of possible classes (the size of onehot vector)\n",
    "    \"\"\"\n",
    "    batch_size = x.shape[0] # number of samples in the batch\n",
    "    vector = torch.zeros(batch_size, max_dim).to(x.device) # to(x.device) ensures the onehot vector tensor \n",
    "                                                           # is on the same device (CPU/GPU) as x\n",
    "    for i in range(batch_size):\n",
    "        vector[i,x[i]] = 1\n",
    "    return vector"
   ]
  },
  {
   "cell_type": "code",
   "execution_count": 3,
   "id": "d33d6cfd",
   "metadata": {},
   "outputs": [],
   "source": [
    "def coordinate_to_onehot(coord, max_dim=21):\n",
    "    \"\"\"\n",
    "    Convert a coordinate vector to a concatenated one-hot encoded vector for values in [-10, 10].\n",
    "    \n",
    "    Args:\n",
    "        coord (torch.Tensor): A vector of integers in the range [-10, 10].\n",
    "        max_dim (int): The number of dimensions for one-hot encoding (default is 21 for range [-10, 10]).\n",
    "    \n",
    "    Returns:\n",
    "        torch.Tensor: A single concatenated one-hot encoded vector.\n",
    "    \"\"\"\n",
    "    onehot_vectors = []  # List to store one-hot vectors for each coordinate\n",
    "    for value in coord:\n",
    "        onehot = torch.zeros(max_dim)\n",
    "        onehot[int(value) + 10] = 1  # Shift value by +10 to make index non-negative\n",
    "        onehot_vectors.append(onehot)\n",
    "    \n",
    "    # Concatenate all one-hot vectors into a single vector\n",
    "    concatenated_onehot = torch.cat(onehot_vectors, dim=0)\n",
    "    return concatenated_onehot"
   ]
  },
  {
   "cell_type": "code",
   "execution_count": 4,
   "id": "9714cdb6",
   "metadata": {},
   "outputs": [
    {
     "data": {
      "text/plain": [
       "tensor([0., 0., 0., 0., 0., 0., 0., 0., 0., 0., 0., 1., 0., 0., 0., 0., 0., 0.,\n",
       "        0., 0., 0., 0., 0., 0., 0., 0., 0., 0., 0., 0., 0., 0., 0., 1., 0., 0.,\n",
       "        0., 0., 0., 0., 0., 0., 1., 0., 0., 0., 0., 0., 0., 0., 0., 0., 0., 0.,\n",
       "        0., 0., 0., 0., 0., 0., 0., 0., 0.])"
      ]
     },
     "execution_count": 4,
     "metadata": {},
     "output_type": "execute_result"
    }
   ],
   "source": [
    "coordinate_to_onehot(coord=[1,2,-10], max_dim=21)"
   ]
  },
  {
   "cell_type": "markdown",
   "id": "a1e13a4f-f587-4909-975f-3c72fb3f7386",
   "metadata": {},
   "source": [
    "## Model structure"
   ]
  },
  {
   "cell_type": "code",
   "execution_count": 5,
   "id": "42d885b9-d70c-49ed-ac40-c9a52d7f6f9e",
   "metadata": {},
   "outputs": [],
   "source": [
    "class Encoder(torch.nn.Module):\n",
    "    #encoder, compress data with input_size dimensions to mu and sigma with latent_size dimensions\n",
    "    def __init__(self, input_size, hidden_size, latent_size):\n",
    "        super(Encoder, self).__init__()\n",
    "        self.linear1 = torch.nn.Linear(input_size, hidden_size)\n",
    "        self.mu = torch.nn.Linear(hidden_size, latent_size)\n",
    "        self.sigma = torch.nn.Linear(hidden_size, latent_size)\n",
    "        \n",
    "    def forward(self, x):\n",
    "        x = F.relu(self.linear1(x)) \n",
    "        mu = self.mu(x) \n",
    "        sigma = self.sigma(x)\n",
    "        return mu,sigma\n",
    "\n",
    "\n",
    "class Decoder(nn.Module):\n",
    "    def __init__(self, latent_size, hidden_size, num_logits, output_per_logit):\n",
    "        super(Decoder, self).__init__()\n",
    "        self.linear1 = nn.Linear(latent_size, hidden_size)\n",
    "        self.linear2 = nn.Linear(hidden_size, num_logits * output_per_logit)\n",
    "        self.num_logits = num_logits\n",
    "        self.output_per_logit = output_per_logit\n",
    "\n",
    "    def forward(self, x):\n",
    "        x = F.relu(self.linear1(x))\n",
    "        logits = self.linear2(x)\n",
    "        # Dynamically split the logits\n",
    "        logits = logits.view(-1, self.num_logits, self.output_per_logit)\n",
    "        return logits.unbind(dim=1)  # Return as tuple of logits\n",
    "\n",
    "\n",
    "class CVAE(nn.Module):\n",
    "    def __init__(self, input_size, output_size, condition_size, latent_size, hidden_size, num_logits=8):\n",
    "        super(CVAE, self).__init__()\n",
    "        self.encoder = Encoder(input_size + condition_size, hidden_size, latent_size)\n",
    "        self.decoder = Decoder(latent_size + condition_size, hidden_size, num_logits, output_size // num_logits)\n",
    "        \n",
    "    def forward(self, x, c):\n",
    "        x = torch.cat((x, c), dim=1)  # Concatenate input and condition\n",
    "        mu, sigma = self.encoder(x)\n",
    "        eps = torch.randn_like(sigma)  # Sample from standard normal\n",
    "        z = mu + eps * sigma  # Reparameterization trick\n",
    "        z = torch.cat((z, c), dim=1)  # Concatenate latent vector with condition\n",
    "        # z = z + torch.normal(mean=0, std=0.1, size=z.size()).to(z.device)  # Add small noise\n",
    "        logits = self.decoder(z)  # Dynamically unpack logits\n",
    "        return logits, mu, sigma"
   ]
  },
  {
   "cell_type": "markdown",
   "id": "16f241f3-711f-44fd-bec6-a2818b986d8c",
   "metadata": {},
   "source": [
    "## Loss function"
   ]
  },
  {
   "cell_type": "code",
   "execution_count": 6,
   "id": "873a5d0d-ef0c-4dc4-85df-3daa3d10963b",
   "metadata": {},
   "outputs": [],
   "source": [
    "loss_CE = nn.CrossEntropyLoss()\n",
    "loss_MSE = torch.nn.MSELoss(reduction = 'sum')\n",
    "loss_KLD = lambda mu,sigma: -0.5 * torch.sum(1 + torch.log(sigma**2) - mu.pow(2) - sigma**2)"
   ]
  },
  {
   "cell_type": "markdown",
   "id": "fdfb32b1-b470-4fb6-8c5e-02ac661d276c",
   "metadata": {},
   "source": [
    "## Model parameters"
   ]
  },
  {
   "cell_type": "code",
   "execution_count": 7,
   "id": "5537f311-9f48-4fe1-b378-09c800ec06e2",
   "metadata": {},
   "outputs": [],
   "source": [
    "latent_size = 128 # latent space dimension\n",
    "hidden_size = 256 # hidden layer dimension\n",
    "input_size = output_size = 21 * 8 # input_size for 8D coordinates \n",
    "condition_size = 3"
   ]
  },
  {
   "cell_type": "markdown",
   "id": "b1ce1528-91dd-40f3-a1c9-5c219a165e8a",
   "metadata": {},
   "source": [
    "## Training parameters"
   ]
  },
  {
   "cell_type": "code",
   "execution_count": 8,
   "id": "9b8d23fc-0316-4723-b750-6ed89b755dc9",
   "metadata": {},
   "outputs": [],
   "source": [
    "epochs = 30\n",
    "batch_size = 128\n",
    "learning_rate = 1e-3\n",
    "device =torch.device('cuda' if torch.cuda.is_available() else 'cpu')"
   ]
  },
  {
   "cell_type": "markdown",
   "id": "ca940b71-9a5f-41e9-8047-46551f7a14d9",
   "metadata": {},
   "source": [
    "## Model construction"
   ]
  },
  {
   "cell_type": "code",
   "execution_count": 9,
   "id": "da6dfa9d-b6f3-4a9e-a97b-b5d1a37da8f4",
   "metadata": {},
   "outputs": [],
   "source": [
    "model = CVAE(input_size, output_size, condition_size, latent_size,hidden_size).to(device)\n",
    "optimizer = optim.Adam(model.parameters(), lr=learning_rate)\n",
    "try:\n",
    "    model.load_state_dict(torch.load(modelname))\n",
    "    print('[INFO] Load Model complete')\n",
    "except:\n",
    "    pass"
   ]
  },
  {
   "cell_type": "markdown",
   "id": "98a1c7df",
   "metadata": {},
   "source": [
    "## Prepare for dataset"
   ]
  },
  {
   "cell_type": "code",
   "execution_count": 10,
   "id": "40f7ff0b",
   "metadata": {},
   "outputs": [],
   "source": [
    "def N_flux(coord):\n",
    "    return coord[0]*coord[6] + coord[1]*coord[7] - coord[2]*coord[4] - coord[3]*coord[5]"
   ]
  },
  {
   "cell_type": "code",
   "execution_count": 11,
   "id": "54fe111b",
   "metadata": {},
   "outputs": [],
   "source": [
    "import random\n",
    "\n",
    "train_dataset = []\n",
    "test_dataset = []\n",
    "\n",
    "train_set_visualise = []\n",
    "N_flux_data = []\n",
    "\n",
    "for j in range(7000):\n",
    "    f = torch.tensor([random.randint(-10, 10), random.randint(-10, 10), random.randint(-10, 10), random.randint(-10, 10)])\n",
    "    h = torch.tensor([random.randint(-10, 10), random.randint(-10, 10), random.randint(-10, 10), random.randint(-10, 10)])\n",
    "    coord = torch.cat((f, h))\n",
    "\n",
    "    train_set_visualise.append(coord)\n",
    "    \n",
    "    N_flux_data.append(N_flux(coord))\n",
    "\n",
    "    if -40 < N_flux(coord) < 40:\n",
    "        label = 0\n",
    "    elif N_flux(coord) <= -40:\n",
    "        label = 1\n",
    "    elif N_flux(coord) >= 40:\n",
    "        label = 2\n",
    "\n",
    "    onehot_coord = coordinate_to_onehot(coord)  # Convert to one-hot\n",
    "    data_point = (onehot_coord, label)  # Store one-hot encoded vector with label\n",
    "    train_dataset.append(data_point)\n",
    "\n",
    "\n",
    "for j in range(1500):\n",
    "    f = torch.tensor([random.randint(-10, 10), random.randint(-10, 10), random.randint(-10, 10), random.randint(-10, 10)])\n",
    "    h = torch.tensor([random.randint(-10, 10), random.randint(-10, 10), random.randint(-10, 10), random.randint(-10, 10)])\n",
    "    coord = torch.cat((f, h))\n",
    "\n",
    "    if -40 < N_flux(coord) < 40:\n",
    "        label = 0\n",
    "    elif N_flux(coord) <= -40:\n",
    "        label = 1\n",
    "    elif N_flux(coord) >= 40:\n",
    "        label = 2\n",
    "\n",
    "    onehot_coord = coordinate_to_onehot(coord)  # Convert to one-hot\n",
    "    data_point = (onehot_coord, label)  # Store one-hot encoded vector with label\n",
    "    test_dataset.append(data_point)"
   ]
  },
  {
   "cell_type": "code",
   "execution_count": 12,
   "id": "1d755af0",
   "metadata": {},
   "outputs": [
    {
     "name": "stdout",
     "output_type": "stream",
     "text": [
      "tensor([ 6,  4, 10, -9,  3, -8, -3, 10])\n",
      "tensor(-80)\n",
      "(tensor([0., 0., 0., 0., 0., 0., 0., 0., 0., 0., 0., 0., 0., 0., 0., 0., 1., 0.,\n",
      "        0., 0., 0., 0., 0., 0., 0., 0., 0., 0., 0., 0., 0., 0., 0., 0., 0., 1.,\n",
      "        0., 0., 0., 0., 0., 0., 0., 0., 0., 0., 0., 0., 0., 0., 0., 0., 0., 0.,\n",
      "        0., 0., 0., 0., 0., 0., 0., 0., 1., 0., 1., 0., 0., 0., 0., 0., 0., 0.,\n",
      "        0., 0., 0., 0., 0., 0., 0., 0., 0., 0., 0., 0., 0., 0., 0., 0., 0., 0.,\n",
      "        0., 0., 0., 0., 0., 0., 0., 1., 0., 0., 0., 0., 0., 0., 0., 0., 0., 1.,\n",
      "        0., 0., 0., 0., 0., 0., 0., 0., 0., 0., 0., 0., 0., 0., 0., 0., 0., 0.,\n",
      "        0., 0., 0., 0., 0., 0., 0., 1., 0., 0., 0., 0., 0., 0., 0., 0., 0., 0.,\n",
      "        0., 0., 0., 0., 0., 0., 0., 0., 0., 0., 0., 0., 0., 0., 0., 0., 0., 0.,\n",
      "        0., 0., 0., 0., 0., 1.]), 1)\n"
     ]
    }
   ],
   "source": [
    "# check some data\n",
    "n = 313\n",
    "coord = train_set_visualise[n]\n",
    "coord1 = train_dataset[n]\n",
    "print(coord)\n",
    "print(N_flux(coord))\n",
    "print(coord1)"
   ]
  },
  {
   "cell_type": "code",
   "execution_count": 13,
   "id": "c79f3b33",
   "metadata": {},
   "outputs": [
    {
     "name": "stdout",
     "output_type": "stream",
     "text": [
      "7000\n"
     ]
    },
    {
     "data": {
      "text/plain": [
       "Text(0, 0.5, 'Frequency')"
      ]
     },
     "execution_count": 13,
     "metadata": {},
     "output_type": "execute_result"
    },
    {
     "data": {
      "image/png": "[encoded data removed]",
      "text/plain": [
       "<Figure size 640x480 with 1 Axes>"
      ]
     },
     "metadata": {},
     "output_type": "display_data"
    }
   ],
   "source": [
    "# visualise training dataset\n",
    "print(len(N_flux_data))\n",
    "plt.hist(list(N_flux_data), bins=30)\n",
    "plt.xlabel(\"N_flux\")\n",
    "plt.ylabel(\"Frequency\")"
   ]
  },
  {
   "cell_type": "code",
   "execution_count": 14,
   "id": "fdcdc772",
   "metadata": {},
   "outputs": [],
   "source": [
    "train_loader = torch.utils.data.DataLoader(train_dataset, batch_size=batch_size, shuffle=True)\n",
    "test_loader = torch.utils.data.DataLoader(test_dataset, batch_size=batch_size, shuffle=False)"
   ]
  },
  {
   "cell_type": "markdown",
   "id": "42343b05-cacd-4799-af6a-cf0818c71116",
   "metadata": {},
   "source": [
    "## Model training"
   ]
  },
  {
   "cell_type": "code",
   "execution_count": 15,
   "id": "0c46d538",
   "metadata": {},
   "outputs": [
    {
     "name": "stderr",
     "output_type": "stream",
     "text": [
      "[train] epoch: 0: 100%|██████████| 55/55 [00:00<00:00, 119.30it/s]\n"
     ]
    },
    {
     "name": "stdout",
     "output_type": "stream",
     "text": [
      "epoch: 0 | Train Loss: 99.9016\n"
     ]
    },
    {
     "name": "stderr",
     "output_type": "stream",
     "text": [
      "[eval] epoch: 0: 100%|██████████| 12/12 [00:00<00:00, 166.43it/s]\n"
     ]
    },
    {
     "name": "stdout",
     "output_type": "stream",
     "text": [
      "epoch: 0 | Test Loss: 56.7268\n",
      "Mu Mean: 0.00013916168245486915, Mu Std: 0.03232021629810333\n"
     ]
    },
    {
     "name": "stderr",
     "output_type": "stream",
     "text": [
      "[train] epoch: 1: 100%|██████████| 55/55 [00:00<00:00, 128.00it/s]\n"
     ]
    },
    {
     "name": "stdout",
     "output_type": "stream",
     "text": [
      "epoch: 1 | Train Loss: 40.0482\n"
     ]
    },
    {
     "name": "stderr",
     "output_type": "stream",
     "text": [
      "[eval] epoch: 1: 100%|██████████| 12/12 [00:00<00:00, 169.65it/s]\n"
     ]
    },
    {
     "name": "stdout",
     "output_type": "stream",
     "text": [
      "epoch: 1 | Test Loss: 27.8545\n",
      "Mu Mean: -0.00028941690106876194, Mu Std: 0.025686925277113914\n"
     ]
    },
    {
     "name": "stderr",
     "output_type": "stream",
     "text": [
      "[train] epoch: 2: 100%|██████████| 55/55 [00:00<00:00, 129.37it/s]\n"
     ]
    },
    {
     "name": "stdout",
     "output_type": "stream",
     "text": [
      "epoch: 2 | Train Loss: 20.9920\n"
     ]
    },
    {
     "name": "stderr",
     "output_type": "stream",
     "text": [
      "[eval] epoch: 2: 100%|██████████| 12/12 [00:00<00:00, 164.82it/s]\n"
     ]
    },
    {
     "name": "stdout",
     "output_type": "stream",
     "text": [
      "epoch: 2 | Test Loss: 15.7148\n",
      "Mu Mean: -0.0002357785269850865, Mu Std: 0.023158852010965347\n"
     ]
    },
    {
     "name": "stderr",
     "output_type": "stream",
     "text": [
      "[train] epoch: 3: 100%|██████████| 55/55 [00:00<00:00, 128.36it/s]\n"
     ]
    },
    {
     "name": "stdout",
     "output_type": "stream",
     "text": [
      "epoch: 3 | Train Loss: 12.6779\n"
     ]
    },
    {
     "name": "stderr",
     "output_type": "stream",
     "text": [
      "[eval] epoch: 3: 100%|██████████| 12/12 [00:00<00:00, 167.21it/s]\n"
     ]
    },
    {
     "name": "stdout",
     "output_type": "stream",
     "text": [
      "epoch: 3 | Test Loss: 9.9600\n",
      "Mu Mean: 0.000603367923758924, Mu Std: 0.0222723837941885\n"
     ]
    },
    {
     "name": "stderr",
     "output_type": "stream",
     "text": [
      "[train] epoch: 4: 100%|██████████| 55/55 [00:00<00:00, 127.05it/s]\n"
     ]
    },
    {
     "name": "stdout",
     "output_type": "stream",
     "text": [
      "epoch: 4 | Train Loss: 8.4128\n"
     ]
    },
    {
     "name": "stderr",
     "output_type": "stream",
     "text": [
      "[eval] epoch: 4: 100%|██████████| 12/12 [00:00<00:00, 169.17it/s]\n"
     ]
    },
    {
     "name": "stdout",
     "output_type": "stream",
     "text": [
      "epoch: 4 | Test Loss: 6.9247\n",
      "Mu Mean: 8.781946962699294e-05, Mu Std: 0.02121971733868122\n"
     ]
    },
    {
     "name": "stderr",
     "output_type": "stream",
     "text": [
      "[train] epoch: 5: 100%|██████████| 55/55 [00:00<00:00, 127.08it/s]\n"
     ]
    },
    {
     "name": "stdout",
     "output_type": "stream",
     "text": [
      "epoch: 5 | Train Loss: 6.0808\n"
     ]
    },
    {
     "name": "stderr",
     "output_type": "stream",
     "text": [
      "[eval] epoch: 5: 100%|██████████| 12/12 [00:00<00:00, 168.75it/s]\n"
     ]
    },
    {
     "name": "stdout",
     "output_type": "stream",
     "text": [
      "epoch: 5 | Test Loss: 5.2793\n",
      "Mu Mean: 0.0005154116661287844, Mu Std: 0.0216052383184433\n"
     ]
    },
    {
     "name": "stderr",
     "output_type": "stream",
     "text": [
      "[train] epoch: 6: 100%|██████████| 55/55 [00:00<00:00, 128.66it/s]\n"
     ]
    },
    {
     "name": "stdout",
     "output_type": "stream",
     "text": [
      "epoch: 6 | Train Loss: 4.6977\n"
     ]
    },
    {
     "name": "stderr",
     "output_type": "stream",
     "text": [
      "[eval] epoch: 6: 100%|██████████| 12/12 [00:00<00:00, 94.21it/s]\n"
     ]
    },
    {
     "name": "stdout",
     "output_type": "stream",
     "text": [
      "epoch: 6 | Test Loss: 3.7216\n",
      "Mu Mean: 0.0003558117605280131, Mu Std: 0.02149893343448639\n"
     ]
    },
    {
     "name": "stderr",
     "output_type": "stream",
     "text": [
      "[train] epoch: 7: 100%|██████████| 55/55 [00:00<00:00, 127.28it/s]\n"
     ]
    },
    {
     "name": "stdout",
     "output_type": "stream",
     "text": [
      "epoch: 7 | Train Loss: 3.4301\n"
     ]
    },
    {
     "name": "stderr",
     "output_type": "stream",
     "text": [
      "[eval] epoch: 7: 100%|██████████| 12/12 [00:00<00:00, 167.62it/s]\n"
     ]
    },
    {
     "name": "stdout",
     "output_type": "stream",
     "text": [
      "epoch: 7 | Test Loss: 3.1197\n",
      "Mu Mean: -0.0004045402747578919, Mu Std: 0.020801832899451256\n"
     ]
    },
    {
     "name": "stderr",
     "output_type": "stream",
     "text": [
      "[train] epoch: 8: 100%|██████████| 55/55 [00:00<00:00, 121.57it/s]\n"
     ]
    },
    {
     "name": "stdout",
     "output_type": "stream",
     "text": [
      "epoch: 8 | Train Loss: 3.0269\n"
     ]
    },
    {
     "name": "stderr",
     "output_type": "stream",
     "text": [
      "[eval] epoch: 8: 100%|██████████| 12/12 [00:00<00:00, 152.94it/s]\n"
     ]
    },
    {
     "name": "stdout",
     "output_type": "stream",
     "text": [
      "epoch: 8 | Test Loss: 3.0637\n",
      "Mu Mean: 0.0003667673736345023, Mu Std: 0.020860377699136734\n"
     ]
    },
    {
     "name": "stderr",
     "output_type": "stream",
     "text": [
      "[train] epoch: 9: 100%|██████████| 55/55 [00:00<00:00, 112.60it/s]\n"
     ]
    },
    {
     "name": "stdout",
     "output_type": "stream",
     "text": [
      "epoch: 9 | Train Loss: 2.8569\n"
     ]
    },
    {
     "name": "stderr",
     "output_type": "stream",
     "text": [
      "[eval] epoch: 9: 100%|██████████| 12/12 [00:00<00:00, 150.96it/s]\n"
     ]
    },
    {
     "name": "stdout",
     "output_type": "stream",
     "text": [
      "epoch: 9 | Test Loss: 2.5624\n",
      "Mu Mean: -0.00047412142157554626, Mu Std: 0.021099023520946503\n"
     ]
    },
    {
     "name": "stderr",
     "output_type": "stream",
     "text": [
      "[train] epoch: 10: 100%|██████████| 55/55 [00:00<00:00, 119.46it/s]\n"
     ]
    },
    {
     "name": "stdout",
     "output_type": "stream",
     "text": [
      "epoch: 10 | Train Loss: 2.6001\n"
     ]
    },
    {
     "name": "stderr",
     "output_type": "stream",
     "text": [
      "[eval] epoch: 10: 100%|██████████| 12/12 [00:00<00:00, 154.79it/s]\n"
     ]
    },
    {
     "name": "stdout",
     "output_type": "stream",
     "text": [
      "epoch: 10 | Test Loss: 2.5957\n",
      "Mu Mean: 0.00032854429446160793, Mu Std: 0.021040024235844612\n"
     ]
    },
    {
     "name": "stderr",
     "output_type": "stream",
     "text": [
      "[train] epoch: 11: 100%|██████████| 55/55 [00:00<00:00, 115.77it/s]\n"
     ]
    },
    {
     "name": "stdout",
     "output_type": "stream",
     "text": [
      "epoch: 11 | Train Loss: 2.5583\n"
     ]
    },
    {
     "name": "stderr",
     "output_type": "stream",
     "text": [
      "[eval] epoch: 11: 100%|██████████| 12/12 [00:00<00:00, 157.52it/s]\n"
     ]
    },
    {
     "name": "stdout",
     "output_type": "stream",
     "text": [
      "epoch: 11 | Test Loss: 2.2955\n",
      "Mu Mean: -0.00025737116811797023, Mu Std: 0.020932821556925774\n"
     ]
    },
    {
     "name": "stderr",
     "output_type": "stream",
     "text": [
      "[train] epoch: 12: 100%|██████████| 55/55 [00:00<00:00, 119.13it/s]\n"
     ]
    },
    {
     "name": "stdout",
     "output_type": "stream",
     "text": [
      "epoch: 12 | Train Loss: 2.4383\n"
     ]
    },
    {
     "name": "stderr",
     "output_type": "stream",
     "text": [
      "[eval] epoch: 12: 100%|██████████| 12/12 [00:00<00:00, 148.11it/s]\n"
     ]
    },
    {
     "name": "stdout",
     "output_type": "stream",
     "text": [
      "epoch: 12 | Test Loss: 2.3581\n",
      "Mu Mean: -0.000499071495141834, Mu Std: 0.020966889336705208\n"
     ]
    },
    {
     "name": "stderr",
     "output_type": "stream",
     "text": [
      "[train] epoch: 13: 100%|██████████| 55/55 [00:00<00:00, 115.06it/s]\n"
     ]
    },
    {
     "name": "stdout",
     "output_type": "stream",
     "text": [
      "epoch: 13 | Train Loss: 2.4243\n"
     ]
    },
    {
     "name": "stderr",
     "output_type": "stream",
     "text": [
      "[eval] epoch: 13: 100%|██████████| 12/12 [00:00<00:00, 149.84it/s]\n"
     ]
    },
    {
     "name": "stdout",
     "output_type": "stream",
     "text": [
      "epoch: 13 | Test Loss: 2.3672\n",
      "Mu Mean: -0.0002925991720985621, Mu Std: 0.02071155607700348\n"
     ]
    },
    {
     "name": "stderr",
     "output_type": "stream",
     "text": [
      "[train] epoch: 14: 100%|██████████| 55/55 [00:00<00:00, 116.38it/s]\n"
     ]
    },
    {
     "name": "stdout",
     "output_type": "stream",
     "text": [
      "epoch: 14 | Train Loss: 2.4819\n"
     ]
    },
    {
     "name": "stderr",
     "output_type": "stream",
     "text": [
      "[eval] epoch: 14: 100%|██████████| 12/12 [00:00<00:00, 156.00it/s]\n"
     ]
    },
    {
     "name": "stdout",
     "output_type": "stream",
     "text": [
      "epoch: 14 | Test Loss: 2.4221\n",
      "Mu Mean: -0.00017263276095036417, Mu Std: 0.020660849288105965\n"
     ]
    },
    {
     "name": "stderr",
     "output_type": "stream",
     "text": [
      "[train] epoch: 15: 100%|██████████| 55/55 [00:00<00:00, 114.53it/s]\n"
     ]
    },
    {
     "name": "stdout",
     "output_type": "stream",
     "text": [
      "epoch: 15 | Train Loss: 2.3517\n"
     ]
    },
    {
     "name": "stderr",
     "output_type": "stream",
     "text": [
      "[eval] epoch: 15: 100%|██████████| 12/12 [00:00<00:00, 146.76it/s]\n"
     ]
    },
    {
     "name": "stdout",
     "output_type": "stream",
     "text": [
      "epoch: 15 | Test Loss: 2.2680\n",
      "Mu Mean: -0.00023369098198600113, Mu Std: 0.020775234326720238\n"
     ]
    },
    {
     "name": "stderr",
     "output_type": "stream",
     "text": [
      "[train] epoch: 16: 100%|██████████| 55/55 [00:00<00:00, 98.68it/s] \n"
     ]
    },
    {
     "name": "stdout",
     "output_type": "stream",
     "text": [
      "epoch: 16 | Train Loss: 2.2238\n"
     ]
    },
    {
     "name": "stderr",
     "output_type": "stream",
     "text": [
      "[eval] epoch: 16: 100%|██████████| 12/12 [00:00<00:00, 148.76it/s]\n"
     ]
    },
    {
     "name": "stdout",
     "output_type": "stream",
     "text": [
      "epoch: 16 | Test Loss: 2.4439\n",
      "Mu Mean: -0.0002312153810635209, Mu Std: 0.021874863654375076\n"
     ]
    },
    {
     "name": "stderr",
     "output_type": "stream",
     "text": [
      "[train] epoch: 17: 100%|██████████| 55/55 [00:00<00:00, 116.30it/s]\n"
     ]
    },
    {
     "name": "stdout",
     "output_type": "stream",
     "text": [
      "epoch: 17 | Train Loss: 2.3194\n"
     ]
    },
    {
     "name": "stderr",
     "output_type": "stream",
     "text": [
      "[eval] epoch: 17: 100%|██████████| 12/12 [00:00<00:00, 146.63it/s]\n"
     ]
    },
    {
     "name": "stdout",
     "output_type": "stream",
     "text": [
      "epoch: 17 | Test Loss: 2.3836\n",
      "Mu Mean: 0.00010851216211449355, Mu Std: 0.02055145986378193\n"
     ]
    },
    {
     "name": "stderr",
     "output_type": "stream",
     "text": [
      "[train] epoch: 18: 100%|██████████| 55/55 [00:00<00:00, 118.50it/s]\n"
     ]
    },
    {
     "name": "stdout",
     "output_type": "stream",
     "text": [
      "epoch: 18 | Train Loss: 2.2808\n"
     ]
    },
    {
     "name": "stderr",
     "output_type": "stream",
     "text": [
      "[eval] epoch: 18: 100%|██████████| 12/12 [00:00<00:00, 146.88it/s]\n"
     ]
    },
    {
     "name": "stdout",
     "output_type": "stream",
     "text": [
      "epoch: 18 | Test Loss: 2.3137\n",
      "Mu Mean: 3.884751276928e-05, Mu Std: 0.020460989326238632\n"
     ]
    },
    {
     "name": "stderr",
     "output_type": "stream",
     "text": [
      "[train] epoch: 19: 100%|██████████| 55/55 [00:00<00:00, 120.89it/s]\n"
     ]
    },
    {
     "name": "stdout",
     "output_type": "stream",
     "text": [
      "epoch: 19 | Train Loss: 2.2817\n"
     ]
    },
    {
     "name": "stderr",
     "output_type": "stream",
     "text": [
      "[eval] epoch: 19: 100%|██████████| 12/12 [00:00<00:00, 147.67it/s]\n"
     ]
    },
    {
     "name": "stdout",
     "output_type": "stream",
     "text": [
      "epoch: 19 | Test Loss: 2.3167\n",
      "Mu Mean: 0.00042384539847262204, Mu Std: 0.020963424816727638\n"
     ]
    },
    {
     "name": "stderr",
     "output_type": "stream",
     "text": [
      "[train] epoch: 20: 100%|██████████| 55/55 [00:00<00:00, 116.96it/s]\n"
     ]
    },
    {
     "name": "stdout",
     "output_type": "stream",
     "text": [
      "epoch: 20 | Train Loss: 2.2135\n"
     ]
    },
    {
     "name": "stderr",
     "output_type": "stream",
     "text": [
      "[eval] epoch: 20: 100%|██████████| 12/12 [00:00<00:00, 169.72it/s]\n"
     ]
    },
    {
     "name": "stdout",
     "output_type": "stream",
     "text": [
      "epoch: 20 | Test Loss: 2.2701\n",
      "Mu Mean: 6.903417670400813e-05, Mu Std: 0.020422127097845078\n"
     ]
    },
    {
     "name": "stderr",
     "output_type": "stream",
     "text": [
      "[train] epoch: 21: 100%|██████████| 55/55 [00:00<00:00, 120.61it/s]\n"
     ]
    },
    {
     "name": "stdout",
     "output_type": "stream",
     "text": [
      "epoch: 21 | Train Loss: 2.2579\n"
     ]
    },
    {
     "name": "stderr",
     "output_type": "stream",
     "text": [
      "[eval] epoch: 21: 100%|██████████| 12/12 [00:00<00:00, 149.65it/s]\n"
     ]
    },
    {
     "name": "stdout",
     "output_type": "stream",
     "text": [
      "epoch: 21 | Test Loss: 2.3783\n",
      "Mu Mean: -0.0001407417730661109, Mu Std: 0.02104027383029461\n"
     ]
    },
    {
     "name": "stderr",
     "output_type": "stream",
     "text": [
      "[train] epoch: 22: 100%|██████████| 55/55 [00:00<00:00, 116.44it/s]\n"
     ]
    },
    {
     "name": "stdout",
     "output_type": "stream",
     "text": [
      "epoch: 22 | Train Loss: 2.2055\n"
     ]
    },
    {
     "name": "stderr",
     "output_type": "stream",
     "text": [
      "[eval] epoch: 22: 100%|██████████| 12/12 [00:00<00:00, 150.34it/s]\n"
     ]
    },
    {
     "name": "stdout",
     "output_type": "stream",
     "text": [
      "epoch: 22 | Test Loss: 2.2939\n",
      "Mu Mean: -0.00023525698634330183, Mu Std: 0.02056630700826645\n"
     ]
    },
    {
     "name": "stderr",
     "output_type": "stream",
     "text": [
      "[train] epoch: 23: 100%|██████████| 55/55 [00:00<00:00, 121.45it/s]\n"
     ]
    },
    {
     "name": "stdout",
     "output_type": "stream",
     "text": [
      "epoch: 23 | Train Loss: 2.1874\n"
     ]
    },
    {
     "name": "stderr",
     "output_type": "stream",
     "text": [
      "[eval] epoch: 23: 100%|██████████| 12/12 [00:00<00:00, 155.71it/s]\n"
     ]
    },
    {
     "name": "stdout",
     "output_type": "stream",
     "text": [
      "epoch: 23 | Test Loss: 2.0703\n",
      "Mu Mean: -0.00025973431183956563, Mu Std: 0.021458938717842102\n"
     ]
    },
    {
     "name": "stderr",
     "output_type": "stream",
     "text": [
      "[train] epoch: 24: 100%|██████████| 55/55 [00:00<00:00, 119.33it/s]\n"
     ]
    },
    {
     "name": "stdout",
     "output_type": "stream",
     "text": [
      "epoch: 24 | Train Loss: 2.0579\n"
     ]
    },
    {
     "name": "stderr",
     "output_type": "stream",
     "text": [
      "[eval] epoch: 24: 100%|██████████| 12/12 [00:00<00:00, 147.42it/s]\n"
     ]
    },
    {
     "name": "stdout",
     "output_type": "stream",
     "text": [
      "epoch: 24 | Test Loss: 2.2402\n",
      "Mu Mean: -0.00031899570603854954, Mu Std: 0.02064482308924198\n"
     ]
    },
    {
     "name": "stderr",
     "output_type": "stream",
     "text": [
      "[train] epoch: 25: 100%|██████████| 55/55 [00:00<00:00, 115.86it/s]\n"
     ]
    },
    {
     "name": "stdout",
     "output_type": "stream",
     "text": [
      "epoch: 25 | Train Loss: 2.1583\n"
     ]
    },
    {
     "name": "stderr",
     "output_type": "stream",
     "text": [
      "[eval] epoch: 25: 100%|██████████| 12/12 [00:00<00:00, 88.41it/s]\n"
     ]
    },
    {
     "name": "stdout",
     "output_type": "stream",
     "text": [
      "epoch: 25 | Test Loss: 2.0452\n",
      "Mu Mean: 0.000490764097776264, Mu Std: 0.020708534866571426\n"
     ]
    },
    {
     "name": "stderr",
     "output_type": "stream",
     "text": [
      "[train] epoch: 26: 100%|██████████| 55/55 [00:00<00:00, 108.00it/s]\n"
     ]
    },
    {
     "name": "stdout",
     "output_type": "stream",
     "text": [
      "epoch: 26 | Train Loss: 2.0792\n"
     ]
    },
    {
     "name": "stderr",
     "output_type": "stream",
     "text": [
      "[eval] epoch: 26: 100%|██████████| 12/12 [00:00<00:00, 150.88it/s]\n"
     ]
    },
    {
     "name": "stdout",
     "output_type": "stream",
     "text": [
      "epoch: 26 | Test Loss: 2.0241\n",
      "Mu Mean: -0.00032399495830759406, Mu Std: 0.020478008314967155\n"
     ]
    },
    {
     "name": "stderr",
     "output_type": "stream",
     "text": [
      "[train] epoch: 27: 100%|██████████| 55/55 [00:00<00:00, 119.58it/s]\n"
     ]
    },
    {
     "name": "stdout",
     "output_type": "stream",
     "text": [
      "epoch: 27 | Train Loss: 2.0660\n"
     ]
    },
    {
     "name": "stderr",
     "output_type": "stream",
     "text": [
      "[eval] epoch: 27: 100%|██████████| 12/12 [00:00<00:00, 150.09it/s]\n"
     ]
    },
    {
     "name": "stdout",
     "output_type": "stream",
     "text": [
      "epoch: 27 | Test Loss: 2.0987\n",
      "Mu Mean: 0.0002936625969596207, Mu Std: 0.02081560716032982\n"
     ]
    },
    {
     "name": "stderr",
     "output_type": "stream",
     "text": [
      "[train] epoch: 28: 100%|██████████| 55/55 [00:00<00:00, 121.22it/s]\n"
     ]
    },
    {
     "name": "stdout",
     "output_type": "stream",
     "text": [
      "epoch: 28 | Train Loss: 2.1090\n"
     ]
    },
    {
     "name": "stderr",
     "output_type": "stream",
     "text": [
      "[eval] epoch: 28: 100%|██████████| 12/12 [00:00<00:00, 152.12it/s]\n"
     ]
    },
    {
     "name": "stdout",
     "output_type": "stream",
     "text": [
      "epoch: 28 | Test Loss: 2.0498\n",
      "Mu Mean: -0.0003975100116804242, Mu Std: 0.021085144951939583\n"
     ]
    },
    {
     "name": "stderr",
     "output_type": "stream",
     "text": [
      "[train] epoch: 29: 100%|██████████| 55/55 [00:00<00:00, 118.88it/s]\n"
     ]
    },
    {
     "name": "stdout",
     "output_type": "stream",
     "text": [
      "epoch: 29 | Train Loss: 2.0411\n"
     ]
    },
    {
     "name": "stderr",
     "output_type": "stream",
     "text": [
      "[eval] epoch: 29: 100%|██████████| 12/12 [00:00<00:00, 155.46it/s]"
     ]
    },
    {
     "name": "stdout",
     "output_type": "stream",
     "text": [
      "epoch: 29 | Test Loss: 2.1144\n",
      "Mu Mean: -0.00038700891309417784, Mu Std: 0.021160978823900223\n",
      "cvae_pytorch_flux_vacua3.pth is saved\n"
     ]
    },
    {
     "name": "stderr",
     "output_type": "stream",
     "text": [
      "\n"
     ]
    }
   ],
   "source": [
    "# Define the classifier to regularize the latent space\n",
    "class Classifier(nn.Module):\n",
    "    def __init__(self, latent_size, num_labels):\n",
    "        super(Classifier, self).__init__()\n",
    "        self.fc = nn.Linear(latent_size, num_labels)\n",
    "\n",
    "    def forward(self, x):\n",
    "        return self.fc(x)\n",
    "\n",
    "# Create classifier instance\n",
    "classifier = Classifier(latent_size, num_labels=3)\n",
    "classifier.to(device)\n",
    "\n",
    "\n",
    "\n",
    "def cluster_loss(latent_space, labels):\n",
    "    \"\"\"\n",
    "    Penalizes clusters in the latent space that are too close to each other.\n",
    "    Args:\n",
    "        latent_space (torch.Tensor): Latent space vectors (batch_size, latent_size).\n",
    "        labels (torch.Tensor): Integer labels (batch_size).\n",
    "    Returns:\n",
    "        torch.Tensor: The cluster loss value.\n",
    "    \"\"\"\n",
    "    unique_labels = torch.unique(labels)\n",
    "    cluster_centers = []\n",
    "    for label in unique_labels:\n",
    "        cluster_points = latent_space[labels == label]\n",
    "        cluster_centers.append(cluster_points.mean(dim=0))\n",
    "    cluster_centers = torch.stack(cluster_centers)\n",
    "    pairwise_distances = torch.cdist(cluster_centers, cluster_centers)\n",
    "    return torch.sum(torch.exp(-pairwise_distances))  # Penalize clusters that are too close\n",
    "\n",
    "\n",
    "\n",
    "def flux_loss(coords, labels):\n",
    "    \"\"\"\n",
    "    Penalizes data points with label 1 and 2 that are away \n",
    "    from the respective center values which are set manually.\n",
    "    \"\"\"\n",
    "    # Convert flux values to a tensor\n",
    "    flux_values = torch.tensor([N_flux(coord) for coord in coords], dtype=torch.float32)\n",
    "    \n",
    "    # Create flux targets with zeros_like\n",
    "    flux_targets = torch.zeros_like(flux_values)\n",
    "    \n",
    "    # Assign target values based on labels\n",
    "    flux_targets[labels == 1] = -60  # Center value for label 1\n",
    "    flux_targets[labels == 2] = 60   # Center value for label 2\n",
    "    \n",
    "    # Compute the mean squared error loss\n",
    "    return torch.mean((flux_values - flux_targets) ** 2)\n",
    "\n",
    "\n",
    "\n",
    "\n",
    "# Training loop\n",
    "modelname = 'cvae_pytorch_flux_vacua3.pth'\n",
    "\n",
    "for epoch in range(epochs):   \n",
    "    '''Model Training'''\n",
    "    train_loss = 0  # Reset loss for each epoch\n",
    "\n",
    "    for imgs, lbls in tqdm(train_loader, desc=f'[train] epoch: {epoch}'):\n",
    "        bs = imgs.shape[0]\n",
    "        imgs = imgs.view(bs, input_size).to(device)\n",
    "        lbls_onehot = label_to_onehot(lbls.to(device), condition_size)\n",
    "\n",
    "        # Forward pass\n",
    "        logits, mu, sigma = model(imgs, lbls_onehot)  # logits is a tuple of 8 logits\n",
    "        \n",
    "        # Calculate targets dynamically\n",
    "        targets = [imgs[:, i * 21:(i + 1) * 21].argmax(dim=1) for i in range(8)]\n",
    "\n",
    "        # Calculate categorical cross-entropy losses\n",
    "        loss_re = sum(loss_CE(logit, target) for logit, target in zip(logits, targets))\n",
    "\n",
    "        # KLD regularization\n",
    "        loss_norm = loss_KLD(mu, sigma)\n",
    "\n",
    "        # Auxiliary classification loss\n",
    "        latent_space = mu  # Use the latent representation from the encoder (mu)\n",
    "        label_logits = classifier(latent_space)  # Pass the latent space through the classifier\n",
    "        class_weights = torch.tensor([1.0, 3.0, 3.0]).to(device)  # Increase weight for labels 1 and 2\n",
    "        classification_loss = nn.CrossEntropyLoss(weight=class_weights)(label_logits, lbls)\n",
    "\n",
    "\n",
    "        # Cluster loss\n",
    "        cluster_loss_value = cluster_loss(latent_space, lbls)\n",
    "\n",
    "        # Compute flux loss\n",
    "        # Decode logits to reconstruct flux coordinates\n",
    "        reconstructed_coords = []\n",
    "        for logit in logits:\n",
    "            coord_indices = logit.argmax(dim=1).cpu() - 10  # Map indices back to [-10, 10]\n",
    "            reconstructed_coords.append(coord_indices)\n",
    "        reconstructed_coords = torch.stack(reconstructed_coords, dim=1)  # Stack into tensor (batch_size, 8)\n",
    "        flux_loss_value = flux_loss(reconstructed_coords, lbls) / 300  # Compute flux loss\n",
    "\n",
    "\n",
    "        # Combine the losses \n",
    "        beta = 0.5\n",
    "        alpha = 1\n",
    "        gamma = 2  # Weight for the cluster loss term\n",
    "        delta = 5  # Weight for flux loss\n",
    "        loss = loss_re + beta * loss_norm + alpha * classification_loss + gamma * cluster_loss_value + delta * flux_loss_value\n",
    "\n",
    "        # Backpropagation\n",
    "        loss.backward()\n",
    "        optimizer.step()\n",
    "        optimizer.zero_grad()\n",
    "\n",
    "        # Record total loss\n",
    "        train_loss += loss.item()\n",
    "\n",
    "    # Print average loss\n",
    "    print(f'epoch: {epoch} | Train Loss: {train_loss / len(train_loader.dataset):.4f}')\n",
    "\n",
    "    # Evaluate the model\n",
    "    model.eval()\n",
    "    test_loss = 0\n",
    "    for imgs, lbls in tqdm(test_loader, desc=f'[eval] epoch: {epoch}'):\n",
    "        bs = imgs.shape[0]\n",
    "        imgs = imgs.view(bs, input_size).to(device)\n",
    "        lbls_onehot = label_to_onehot(lbls.to(device), condition_size)\n",
    "\n",
    "        # Forward pass\n",
    "        logits, mu, sigma = model(imgs, lbls_onehot)\n",
    "\n",
    "        # Calculate targets dynamically\n",
    "        targets = [imgs[:, i * 21:(i + 1) * 21].argmax(dim=1) for i in range(8)]\n",
    "\n",
    "        # Calculate categorical cross-entropy losses\n",
    "        loss_re = sum(loss_CE(logit, target) for logit, target in zip(logits, targets))\n",
    "\n",
    "        # KLD regularization\n",
    "        loss_norm = loss_KLD(mu, sigma)\n",
    "\n",
    "        # Auxiliary classification loss\n",
    "        latent_space = mu\n",
    "        label_logits = classifier(latent_space)\n",
    "        class_weights = torch.tensor([1.0, 3.0, 3.0]).to(device)  # Increase weight for labels 1 and 2\n",
    "        classification_loss = nn.CrossEntropyLoss(weight=class_weights)(label_logits, lbls)\n",
    "\n",
    "        # Cluster loss\n",
    "        cluster_loss_value = cluster_loss(latent_space, lbls)\n",
    "\n",
    "        # Compute flux loss\n",
    "        # Decode logits to reconstruct flux coordinates\n",
    "        reconstructed_coords = []\n",
    "        for logit in logits:\n",
    "            coord_indices = logit.argmax(dim=1).cpu() - 10  # Map indices back to [-10, 10]\n",
    "            reconstructed_coords.append(coord_indices)\n",
    "        reconstructed_coords = torch.stack(reconstructed_coords, dim=1)  # Stack into tensor (batch_size, 8)\n",
    "        flux_loss_value = flux_loss(reconstructed_coords, lbls) / 300  # Compute flux loss\n",
    "\n",
    "\n",
    "        # Combine the losses\n",
    "        beta = 0.5\n",
    "        alpha = 1\n",
    "        gamma = 2  # Weight for the cluster loss term\n",
    "        delta = 5  # Weight for flux loss\n",
    "        loss = loss_re + beta * loss_norm + alpha * classification_loss + gamma * cluster_loss_value + delta * flux_loss_value\n",
    "\n",
    "        # Record total loss\n",
    "        test_loss += loss.item()\n",
    "\n",
    "    # Print test loss\n",
    "    print(f'epoch: {epoch} | Test Loss: {test_loss / len(test_loader.dataset):.4f}')\n",
    "    model.train()\n",
    "\n",
    "    print(f\"Mu Mean: {mu.mean().item()}, Mu Std: {mu.std().item()}\")\n",
    "\n",
    "# Save the model\n",
    "torch.save(model.state_dict(), modelname)\n",
    "print(f\"{modelname} is saved\")\n"
   ]
  },
  {
   "cell_type": "markdown",
   "id": "0cd82e0e",
   "metadata": {},
   "source": [
    "## Latent space plotting"
   ]
  },
  {
   "cell_type": "code",
   "execution_count": 16,
   "id": "e62bac46",
   "metadata": {},
   "outputs": [
    {
     "data": {
      "image/png": "[encoded data removed]",
      "text/plain": [
       "<Figure size 800x600 with 2 Axes>"
      ]
     },
     "metadata": {},
     "output_type": "display_data"
    }
   ],
   "source": [
    "import sklearn\n",
    "from sklearn.manifold import TSNE\n",
    "\n",
    "def plot_latent_space(model, data_loader, num_samples=1000):\n",
    "    model.eval()\n",
    "    latent_vectors = []\n",
    "    labels = []\n",
    "\n",
    "    # Collect latent vectors for a subset of samples\n",
    "    with torch.no_grad():\n",
    "        for imgs, lbls in data_loader:\n",
    "            imgs = imgs.to(device)\n",
    "            lbls = label_to_onehot(lbls.to(device), condition_size)\n",
    "            \n",
    "            # Get the latent vectors\n",
    "            mu, _ = model.encoder(torch.cat((imgs, lbls), dim=1))\n",
    "            latent_vectors.append(mu.cpu().numpy())\n",
    "            labels.extend(lbls.cpu().numpy())\n",
    "\n",
    "            if len(latent_vectors) >= num_samples:\n",
    "                break\n",
    "\n",
    "    # Convert to numpy array\n",
    "    latent_vectors = np.concatenate(latent_vectors)[:num_samples]\n",
    "    labels = np.array(labels)[:num_samples]\n",
    "\n",
    "    # Reduce dimensionality using t-SNE\n",
    "    tsne = TSNE(n_components=2)\n",
    "    latent_2d = tsne.fit_transform(latent_vectors)\n",
    "\n",
    "    # Plot the 2D latent space\n",
    "    plt.figure(figsize=(8, 6))\n",
    "    scatter = plt.scatter(latent_2d[:, 0], latent_2d[:, 1], c=labels.argmax(axis=1), cmap='viridis', alpha=0.7)\n",
    "    plt.colorbar(scatter, label=\"Quadrant Label\")\n",
    "    plt.title(\"Latent Space Visualization using t-SNE\")\n",
    "    plt.xlabel(\"t-SNE Dim 1\")\n",
    "    plt.ylabel(\"t-SNE Dim 2\")\n",
    "    plt.grid(True)\n",
    "    plt.show()\n",
    "\n",
    "# Use this function after training the model\n",
    "plot_latent_space(model, train_loader)"
   ]
  },
  {
   "cell_type": "markdown",
   "id": "21cfc4db-13a6-442a-9039-c18970c87d03",
   "metadata": {},
   "source": [
    "## Visualisation"
   ]
  },
  {
   "cell_type": "code",
   "execution_count": 17,
   "id": "95bfc933-6338-43bb-a555-c77fe96e51d2",
   "metadata": {},
   "outputs": [
    {
     "name": "stdout",
     "output_type": "stream",
     "text": [
      "Generated flux: [8, -2, 9, 9, -7, -10, 7, -5]\n",
      "219\n"
     ]
    }
   ],
   "source": [
    "'''Model prediction''' # use trained model or saved trained model to predict\n",
    "\n",
    "def generate_sample(i):\n",
    "    '''\n",
    "        generate a sample from the latent space with label i\n",
    "        i: the quadrant index, ranging from 0 to 2\n",
    "    '''\n",
    "\n",
    "    sample = torch.randn(1, latent_size).to(device)\n",
    "\n",
    "    # # sample near the mean instead\n",
    "    # condition = label_to_onehot(torch.tensor([i]), condition_size)  # One-hot encode the target class\n",
    "    # z_mean, _ = model.encoder(torch.cat((torch.zeros(1, input_size), condition), dim=1).to(device))\n",
    "    # epsilon = 0.6\n",
    "    # sample = z_mean + epsilon * torch.randn_like(z_mean)  # Add small noise for diversity\n",
    "\n",
    "\n",
    "    i_number = i * torch.ones(1).long().to(device) \n",
    "    condit = label_to_onehot(i_number, condition_size)  # One-hot encoding of the label\n",
    "    inputs = torch.cat((sample, condit), dim=1)  # Concatenate latent sample and condition\n",
    "\n",
    "    # Decode logits\n",
    "    with torch.no_grad():\n",
    "        logits = model.decoder(inputs)  # Decode to obtain logits as a tuple\n",
    "\n",
    "    # Compute predicted coordinates\n",
    "    predicted_coord = [logit.argmax(dim=1).item() - 10 for logit in logits]\n",
    "\n",
    "    return predicted_coord\n",
    "\n",
    "coord = generate_sample(i=2)\n",
    "print(f\"Generated flux: {coord}\")\n",
    "print(N_flux(coord))"
   ]
  },
  {
   "cell_type": "code",
   "execution_count": 19,
   "id": "dcadf9af",
   "metadata": {},
   "outputs": [
    {
     "data": {
      "image/png": "[encoded data removed]",
      "text/plain": [
       "<Figure size 640x480 with 1 Axes>"
      ]
     },
     "metadata": {},
     "output_type": "display_data"
    }
   ],
   "source": [
    "plt.hist(np.array([N_flux(generate_sample(i=0)) for i in range(5000)]), bins=30, alpha=0.3, color='tab:red', label='Class 0', density=True)\n",
    "plt.hist(np.array([N_flux(generate_sample(i=1)) for i in range(5000)]), bins=30, alpha=0.3, color='tab:blue', label='Class 1', density=True)\n",
    "plt.hist(np.array([N_flux(generate_sample(i=2)) for i in range(5000)]), bins=30, alpha=0.3, color='tab:orange', label='Class 2', density=True)\n",
    "plt.legend()\n",
    "plt.xlabel(\"N_flux\")\n",
    "plt.ylabel(\"Density\")\n",
    "plt.show()"
   ]
  }
 ],
 "metadata": {
  "kernelspec": {
   "display_name": "vae_env",
   "language": "python",
   "name": "python3"
  },
  "language_info": {
   "codemirror_mode": {
    "name": "ipython",
    "version": 3
   },
   "file_extension": ".py",
   "mimetype": "text/x-python",
   "name": "python",
   "nbconvert_exporter": "python",
   "pygments_lexer": "ipython3",
   "version": "3.12.4"
  }
 },
 "nbformat": 4,
 "nbformat_minor": 5
}
